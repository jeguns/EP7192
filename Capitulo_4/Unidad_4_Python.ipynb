{
  "nbformat": 4,
  "nbformat_minor": 0,
  "metadata": {
    "colab": {
      "provenance": [],
      "toc_visible": true,
      "authorship_tag": "ABX9TyM/OacyOUN5OpATu23ite1C",
      "include_colab_link": true
    },
    "kernelspec": {
      "name": "python3",
      "display_name": "Python 3"
    },
    "language_info": {
      "name": "python"
    }
  },
  "cells": [
    {
      "cell_type": "markdown",
      "metadata": {
        "id": "view-in-github",
        "colab_type": "text"
      },
      "source": [
        "<a href=\"https://colab.research.google.com/github/jeguns/EP7192/blob/main/Capitulo_4/Unidad_4_Python.ipynb\" target=\"_parent\"><img src=\"https://colab.research.google.com/assets/colab-badge.svg\" alt=\"Open In Colab\"/></a>"
      ]
    },
    {
      "cell_type": "markdown",
      "source": [
        "# Lectura de datos\n",
        "\n"
      ],
      "metadata": {
        "id": "McNpd0PYddPq"
      }
    },
    {
      "cell_type": "markdown",
      "source": [
        "Se empleará el archivo **datos_u4.xlsx**, el cual recopila datos de pacientes en torno a las siguientes variables:\n",
        "\n",
        "• Seguro: 1 si el paciente utilizó seguro privado, 0 en caso contrario\n",
        "\n",
        "• Cita: Número de intentos fallidos del paciente antes de lograr conseguir una cita.\n",
        "\n",
        "• Emergencia: Número de veces que el paciente acudió a emergencia en el último año.\n",
        "\n",
        "• Mejoria: Número de sesiones de psicología sin mejoría antes de que el paciente registre\n",
        "2 mejoras significativas\n",
        "\n",
        "• Presion: Presión sistólica del paciente (en mmHg)\n",
        "\n",
        "• Espera: Tiempo de espera del paciente (en horas)."
      ],
      "metadata": {
        "id": "bvQJq349dfE7"
      }
    },
    {
      "cell_type": "code",
      "execution_count": 32,
      "metadata": {
        "colab": {
          "base_uri": "https://localhost:8080/",
          "height": 206
        },
        "id": "nR-AEXr8dWOd",
        "outputId": "33e49798-fe17-40bd-955f-92fb55aa6a8c"
      },
      "outputs": [
        {
          "output_type": "execute_result",
          "data": {
            "text/plain": [
              "   Seguro  Cita  Emergencias  Mejoria  Presion  Espera\n",
              "0       0     0            2        3      125     0.5\n",
              "1       1     0            1        6      119     0.2\n",
              "2       1     0            1        3      109     0.3\n",
              "3       1     1            1        3      120     0.0\n",
              "4       0     0            0        3      150     0.7"
            ],
            "text/html": [
              "\n",
              "  <div id=\"df-7ec89609-8593-4e8c-83e1-2ad9542d5f2c\" class=\"colab-df-container\">\n",
              "    <div>\n",
              "<style scoped>\n",
              "    .dataframe tbody tr th:only-of-type {\n",
              "        vertical-align: middle;\n",
              "    }\n",
              "\n",
              "    .dataframe tbody tr th {\n",
              "        vertical-align: top;\n",
              "    }\n",
              "\n",
              "    .dataframe thead th {\n",
              "        text-align: right;\n",
              "    }\n",
              "</style>\n",
              "<table border=\"1\" class=\"dataframe\">\n",
              "  <thead>\n",
              "    <tr style=\"text-align: right;\">\n",
              "      <th></th>\n",
              "      <th>Seguro</th>\n",
              "      <th>Cita</th>\n",
              "      <th>Emergencias</th>\n",
              "      <th>Mejoria</th>\n",
              "      <th>Presion</th>\n",
              "      <th>Espera</th>\n",
              "    </tr>\n",
              "  </thead>\n",
              "  <tbody>\n",
              "    <tr>\n",
              "      <th>0</th>\n",
              "      <td>0</td>\n",
              "      <td>0</td>\n",
              "      <td>2</td>\n",
              "      <td>3</td>\n",
              "      <td>125</td>\n",
              "      <td>0.5</td>\n",
              "    </tr>\n",
              "    <tr>\n",
              "      <th>1</th>\n",
              "      <td>1</td>\n",
              "      <td>0</td>\n",
              "      <td>1</td>\n",
              "      <td>6</td>\n",
              "      <td>119</td>\n",
              "      <td>0.2</td>\n",
              "    </tr>\n",
              "    <tr>\n",
              "      <th>2</th>\n",
              "      <td>1</td>\n",
              "      <td>0</td>\n",
              "      <td>1</td>\n",
              "      <td>3</td>\n",
              "      <td>109</td>\n",
              "      <td>0.3</td>\n",
              "    </tr>\n",
              "    <tr>\n",
              "      <th>3</th>\n",
              "      <td>1</td>\n",
              "      <td>1</td>\n",
              "      <td>1</td>\n",
              "      <td>3</td>\n",
              "      <td>120</td>\n",
              "      <td>0.0</td>\n",
              "    </tr>\n",
              "    <tr>\n",
              "      <th>4</th>\n",
              "      <td>0</td>\n",
              "      <td>0</td>\n",
              "      <td>0</td>\n",
              "      <td>3</td>\n",
              "      <td>150</td>\n",
              "      <td>0.7</td>\n",
              "    </tr>\n",
              "  </tbody>\n",
              "</table>\n",
              "</div>\n",
              "    <div class=\"colab-df-buttons\">\n",
              "\n",
              "  <div class=\"colab-df-container\">\n",
              "    <button class=\"colab-df-convert\" onclick=\"convertToInteractive('df-7ec89609-8593-4e8c-83e1-2ad9542d5f2c')\"\n",
              "            title=\"Convert this dataframe to an interactive table.\"\n",
              "            style=\"display:none;\">\n",
              "\n",
              "  <svg xmlns=\"http://www.w3.org/2000/svg\" height=\"24px\" viewBox=\"0 -960 960 960\">\n",
              "    <path d=\"M120-120v-720h720v720H120Zm60-500h600v-160H180v160Zm220 220h160v-160H400v160Zm0 220h160v-160H400v160ZM180-400h160v-160H180v160Zm440 0h160v-160H620v160ZM180-180h160v-160H180v160Zm440 0h160v-160H620v160Z\"/>\n",
              "  </svg>\n",
              "    </button>\n",
              "\n",
              "  <style>\n",
              "    .colab-df-container {\n",
              "      display:flex;\n",
              "      gap: 12px;\n",
              "    }\n",
              "\n",
              "    .colab-df-convert {\n",
              "      background-color: #E8F0FE;\n",
              "      border: none;\n",
              "      border-radius: 50%;\n",
              "      cursor: pointer;\n",
              "      display: none;\n",
              "      fill: #1967D2;\n",
              "      height: 32px;\n",
              "      padding: 0 0 0 0;\n",
              "      width: 32px;\n",
              "    }\n",
              "\n",
              "    .colab-df-convert:hover {\n",
              "      background-color: #E2EBFA;\n",
              "      box-shadow: 0px 1px 2px rgba(60, 64, 67, 0.3), 0px 1px 3px 1px rgba(60, 64, 67, 0.15);\n",
              "      fill: #174EA6;\n",
              "    }\n",
              "\n",
              "    .colab-df-buttons div {\n",
              "      margin-bottom: 4px;\n",
              "    }\n",
              "\n",
              "    [theme=dark] .colab-df-convert {\n",
              "      background-color: #3B4455;\n",
              "      fill: #D2E3FC;\n",
              "    }\n",
              "\n",
              "    [theme=dark] .colab-df-convert:hover {\n",
              "      background-color: #434B5C;\n",
              "      box-shadow: 0px 1px 3px 1px rgba(0, 0, 0, 0.15);\n",
              "      filter: drop-shadow(0px 1px 2px rgba(0, 0, 0, 0.3));\n",
              "      fill: #FFFFFF;\n",
              "    }\n",
              "  </style>\n",
              "\n",
              "    <script>\n",
              "      const buttonEl =\n",
              "        document.querySelector('#df-7ec89609-8593-4e8c-83e1-2ad9542d5f2c button.colab-df-convert');\n",
              "      buttonEl.style.display =\n",
              "        google.colab.kernel.accessAllowed ? 'block' : 'none';\n",
              "\n",
              "      async function convertToInteractive(key) {\n",
              "        const element = document.querySelector('#df-7ec89609-8593-4e8c-83e1-2ad9542d5f2c');\n",
              "        const dataTable =\n",
              "          await google.colab.kernel.invokeFunction('convertToInteractive',\n",
              "                                                    [key], {});\n",
              "        if (!dataTable) return;\n",
              "\n",
              "        const docLinkHtml = 'Like what you see? Visit the ' +\n",
              "          '<a target=\"_blank\" href=https://colab.research.google.com/notebooks/data_table.ipynb>data table notebook</a>'\n",
              "          + ' to learn more about interactive tables.';\n",
              "        element.innerHTML = '';\n",
              "        dataTable['output_type'] = 'display_data';\n",
              "        await google.colab.output.renderOutput(dataTable, element);\n",
              "        const docLink = document.createElement('div');\n",
              "        docLink.innerHTML = docLinkHtml;\n",
              "        element.appendChild(docLink);\n",
              "      }\n",
              "    </script>\n",
              "  </div>\n",
              "\n",
              "\n",
              "    <div id=\"df-c6a96452-3b06-48af-a558-71a1ccc19510\">\n",
              "      <button class=\"colab-df-quickchart\" onclick=\"quickchart('df-c6a96452-3b06-48af-a558-71a1ccc19510')\"\n",
              "                title=\"Suggest charts\"\n",
              "                style=\"display:none;\">\n",
              "\n",
              "<svg xmlns=\"http://www.w3.org/2000/svg\" height=\"24px\"viewBox=\"0 0 24 24\"\n",
              "     width=\"24px\">\n",
              "    <g>\n",
              "        <path d=\"M19 3H5c-1.1 0-2 .9-2 2v14c0 1.1.9 2 2 2h14c1.1 0 2-.9 2-2V5c0-1.1-.9-2-2-2zM9 17H7v-7h2v7zm4 0h-2V7h2v10zm4 0h-2v-4h2v4z\"/>\n",
              "    </g>\n",
              "</svg>\n",
              "      </button>\n",
              "\n",
              "<style>\n",
              "  .colab-df-quickchart {\n",
              "      --bg-color: #E8F0FE;\n",
              "      --fill-color: #1967D2;\n",
              "      --hover-bg-color: #E2EBFA;\n",
              "      --hover-fill-color: #174EA6;\n",
              "      --disabled-fill-color: #AAA;\n",
              "      --disabled-bg-color: #DDD;\n",
              "  }\n",
              "\n",
              "  [theme=dark] .colab-df-quickchart {\n",
              "      --bg-color: #3B4455;\n",
              "      --fill-color: #D2E3FC;\n",
              "      --hover-bg-color: #434B5C;\n",
              "      --hover-fill-color: #FFFFFF;\n",
              "      --disabled-bg-color: #3B4455;\n",
              "      --disabled-fill-color: #666;\n",
              "  }\n",
              "\n",
              "  .colab-df-quickchart {\n",
              "    background-color: var(--bg-color);\n",
              "    border: none;\n",
              "    border-radius: 50%;\n",
              "    cursor: pointer;\n",
              "    display: none;\n",
              "    fill: var(--fill-color);\n",
              "    height: 32px;\n",
              "    padding: 0;\n",
              "    width: 32px;\n",
              "  }\n",
              "\n",
              "  .colab-df-quickchart:hover {\n",
              "    background-color: var(--hover-bg-color);\n",
              "    box-shadow: 0 1px 2px rgba(60, 64, 67, 0.3), 0 1px 3px 1px rgba(60, 64, 67, 0.15);\n",
              "    fill: var(--button-hover-fill-color);\n",
              "  }\n",
              "\n",
              "  .colab-df-quickchart-complete:disabled,\n",
              "  .colab-df-quickchart-complete:disabled:hover {\n",
              "    background-color: var(--disabled-bg-color);\n",
              "    fill: var(--disabled-fill-color);\n",
              "    box-shadow: none;\n",
              "  }\n",
              "\n",
              "  .colab-df-spinner {\n",
              "    border: 2px solid var(--fill-color);\n",
              "    border-color: transparent;\n",
              "    border-bottom-color: var(--fill-color);\n",
              "    animation:\n",
              "      spin 1s steps(1) infinite;\n",
              "  }\n",
              "\n",
              "  @keyframes spin {\n",
              "    0% {\n",
              "      border-color: transparent;\n",
              "      border-bottom-color: var(--fill-color);\n",
              "      border-left-color: var(--fill-color);\n",
              "    }\n",
              "    20% {\n",
              "      border-color: transparent;\n",
              "      border-left-color: var(--fill-color);\n",
              "      border-top-color: var(--fill-color);\n",
              "    }\n",
              "    30% {\n",
              "      border-color: transparent;\n",
              "      border-left-color: var(--fill-color);\n",
              "      border-top-color: var(--fill-color);\n",
              "      border-right-color: var(--fill-color);\n",
              "    }\n",
              "    40% {\n",
              "      border-color: transparent;\n",
              "      border-right-color: var(--fill-color);\n",
              "      border-top-color: var(--fill-color);\n",
              "    }\n",
              "    60% {\n",
              "      border-color: transparent;\n",
              "      border-right-color: var(--fill-color);\n",
              "    }\n",
              "    80% {\n",
              "      border-color: transparent;\n",
              "      border-right-color: var(--fill-color);\n",
              "      border-bottom-color: var(--fill-color);\n",
              "    }\n",
              "    90% {\n",
              "      border-color: transparent;\n",
              "      border-bottom-color: var(--fill-color);\n",
              "    }\n",
              "  }\n",
              "</style>\n",
              "\n",
              "      <script>\n",
              "        async function quickchart(key) {\n",
              "          const quickchartButtonEl =\n",
              "            document.querySelector('#' + key + ' button');\n",
              "          quickchartButtonEl.disabled = true;  // To prevent multiple clicks.\n",
              "          quickchartButtonEl.classList.add('colab-df-spinner');\n",
              "          try {\n",
              "            const charts = await google.colab.kernel.invokeFunction(\n",
              "                'suggestCharts', [key], {});\n",
              "          } catch (error) {\n",
              "            console.error('Error during call to suggestCharts:', error);\n",
              "          }\n",
              "          quickchartButtonEl.classList.remove('colab-df-spinner');\n",
              "          quickchartButtonEl.classList.add('colab-df-quickchart-complete');\n",
              "        }\n",
              "        (() => {\n",
              "          let quickchartButtonEl =\n",
              "            document.querySelector('#df-c6a96452-3b06-48af-a558-71a1ccc19510 button');\n",
              "          quickchartButtonEl.style.display =\n",
              "            google.colab.kernel.accessAllowed ? 'block' : 'none';\n",
              "        })();\n",
              "      </script>\n",
              "    </div>\n",
              "\n",
              "    </div>\n",
              "  </div>\n"
            ],
            "application/vnd.google.colaboratory.intrinsic+json": {
              "type": "dataframe",
              "variable_name": "datos",
              "summary": "{\n  \"name\": \"datos\",\n  \"rows\": 80,\n  \"fields\": [\n    {\n      \"column\": \"Seguro\",\n      \"properties\": {\n        \"dtype\": \"number\",\n        \"std\": 0,\n        \"min\": 0,\n        \"max\": 1,\n        \"num_unique_values\": 2,\n        \"samples\": [\n          1,\n          0\n        ],\n        \"semantic_type\": \"\",\n        \"description\": \"\"\n      }\n    },\n    {\n      \"column\": \"Cita\",\n      \"properties\": {\n        \"dtype\": \"number\",\n        \"std\": 0,\n        \"min\": 0,\n        \"max\": 3,\n        \"num_unique_values\": 4,\n        \"samples\": [\n          1,\n          3\n        ],\n        \"semantic_type\": \"\",\n        \"description\": \"\"\n      }\n    },\n    {\n      \"column\": \"Emergencias\",\n      \"properties\": {\n        \"dtype\": \"number\",\n        \"std\": 1,\n        \"min\": 0,\n        \"max\": 4,\n        \"num_unique_values\": 5,\n        \"samples\": [\n          1,\n          4\n        ],\n        \"semantic_type\": \"\",\n        \"description\": \"\"\n      }\n    },\n    {\n      \"column\": \"Mejoria\",\n      \"properties\": {\n        \"dtype\": \"number\",\n        \"std\": 2,\n        \"min\": 0,\n        \"max\": 13,\n        \"num_unique_values\": 11,\n        \"samples\": [\n          9,\n          3\n        ],\n        \"semantic_type\": \"\",\n        \"description\": \"\"\n      }\n    },\n    {\n      \"column\": \"Presion\",\n      \"properties\": {\n        \"dtype\": \"number\",\n        \"std\": 14,\n        \"min\": 76,\n        \"max\": 150,\n        \"num_unique_values\": 41,\n        \"samples\": [\n          113,\n          112\n        ],\n        \"semantic_type\": \"\",\n        \"description\": \"\"\n      }\n    },\n    {\n      \"column\": \"Espera\",\n      \"properties\": {\n        \"dtype\": \"number\",\n        \"std\": 0.47531468590073184,\n        \"min\": 0.0,\n        \"max\": 2.1,\n        \"num_unique_values\": 18,\n        \"samples\": [\n          0.5,\n          0.2\n        ],\n        \"semantic_type\": \"\",\n        \"description\": \"\"\n      }\n    }\n  ]\n}"
            }
          },
          "metadata": {},
          "execution_count": 32
        }
      ],
      "source": [
        "import pandas as pd\n",
        "datos = pd.read_excel('datos_u4.xlsx')\n",
        "datos.head()"
      ]
    },
    {
      "cell_type": "markdown",
      "source": [
        "# Distribución Binomial"
      ],
      "metadata": {
        "id": "XzYrwpVSd3Jf"
      }
    },
    {
      "cell_type": "markdown",
      "source": [
        "Si asumimos que los valores $X_1$,...,$X_n$ siguen una distribución $Bin(n,\\pi)$, entonces para $n$ conocido (fijado por el investigador), se sabe que $\\hat{\\pi} = \\overline{x}$ es el estimador de máxima verosimilitud y momentos.\n",
        "\n",
        "Para el caso, se define $X$ como el número de pacientes con seguro privado. Como cada fila corresponde a un paciente, entonces $X\\sim Bin(n=1,\\pi)$. Luego, se tiene que $\\hat{\\pi}=0.575$ es la probabilidad estimada\n",
        "\n"
      ],
      "metadata": {
        "id": "6NOCO7-hd-2Q"
      }
    },
    {
      "cell_type": "code",
      "source": [
        "pX_est = datos[\"Seguro\"].mean()\n",
        "print(pX_est)"
      ],
      "metadata": {
        "colab": {
          "base_uri": "https://localhost:8080/"
        },
        "id": "Eb2PT-g-eJEU",
        "outputId": "782d1466-3375-4a71-8551-24d39bbdf09f"
      },
      "execution_count": 33,
      "outputs": [
        {
          "output_type": "stream",
          "name": "stdout",
          "text": [
            "0.575\n"
          ]
        }
      ]
    },
    {
      "cell_type": "markdown",
      "source": [
        "A partir de este valor estimado, se busca encontrar, ¿cuál es la probabilidad de que en un grupo de 10 pacientes, 4 de éstos tengan seguro privado?\n",
        "\n",
        "$$P(X=4) = 0.1353$$\n"
      ],
      "metadata": {
        "id": "BKolk_QxeKk4"
      }
    },
    {
      "cell_type": "code",
      "source": [
        "from scipy.stats import binom\n",
        "print(binom.pmf(k=4, n=10, p=pX_est))"
      ],
      "metadata": {
        "colab": {
          "base_uri": "https://localhost:8080/"
        },
        "id": "IYS8CqVceQqK",
        "outputId": "606622a1-42e6-4648-e500-7187ce577712"
      },
      "execution_count": 34,
      "outputs": [
        {
          "output_type": "stream",
          "name": "stdout",
          "text": [
            "0.13527709043227104\n"
          ]
        }
      ]
    },
    {
      "cell_type": "markdown",
      "source": [
        "A continuación, se presenta una muestra aleatoria de 10 pacientes, de los cuales se observa que 6 de ellos sí cuentan con seguro privado.\n"
      ],
      "metadata": {
        "id": "Lw-2EvYmeS3o"
      }
    },
    {
      "cell_type": "code",
      "source": [
        "import numpy as np\n",
        "np.random.seed(2239)\n",
        "print(np.random.binomial(n=1, p=pX_est, size=10))"
      ],
      "metadata": {
        "colab": {
          "base_uri": "https://localhost:8080/"
        },
        "id": "NHsvzFT9eWni",
        "outputId": "ba504061-b235-442c-ce01-e1902b4c1c58"
      },
      "execution_count": 35,
      "outputs": [
        {
          "output_type": "stream",
          "name": "stdout",
          "text": [
            "[1 1 1 0 0 0 1 1 0 1]\n"
          ]
        }
      ]
    },
    {
      "cell_type": "markdown",
      "source": [
        "# Distribución Poisson"
      ],
      "metadata": {
        "id": "tAcsqdq0eixb"
      }
    },
    {
      "cell_type": "markdown",
      "source": [
        "Si asumimos que los valores $X_1$,...,$X_n$ siguen una distribución $Pois(\\lambda)$, entonces se sabe que $\\hat{\\lambda} = \\overline{x}$ es el estimador de máxima verosimilitud y momentos.  Para el caso, se define $Z$ como el número de veces que el paciente acudió a emergencia en el último año, cuya distribución se asumirá $Pois(\\lambda)$. Luego, se tiene que $\\hat{\\lambda}=1.325$ es la media estimada\n",
        "\n"
      ],
      "metadata": {
        "id": "mVEH48Srel-F"
      }
    },
    {
      "cell_type": "code",
      "source": [
        "lambdaZ_est = datos[\"Emergencias\"].mean()\n",
        "print(lambdaZ_est)"
      ],
      "metadata": {
        "colab": {
          "base_uri": "https://localhost:8080/"
        },
        "id": "ETFx0gxyeo9N",
        "outputId": "367efae1-d835-45ac-a3eb-15f1b9606f1f"
      },
      "execution_count": 36,
      "outputs": [
        {
          "output_type": "stream",
          "name": "stdout",
          "text": [
            "1.325\n"
          ]
        }
      ]
    },
    {
      "cell_type": "markdown",
      "source": [
        "A partir de este valor estimado, se busca encontrar, ¿cuál es la probabilidad de que un paciente acuda a emergencias 1 vez en un periodo de 6 meses?\n",
        "\n",
        "$Z$: número de veces que el paciente acudió a emergencia en 6 meses\n",
        "\n",
        "$$P(Z=1)=0.3416$$"
      ],
      "metadata": {
        "id": "fojatt3heqek"
      }
    },
    {
      "cell_type": "code",
      "source": [
        "from scipy.stats import poisson\n",
        "print(poisson.pmf(k=1, mu=lambdaZ_est / 2))"
      ],
      "metadata": {
        "colab": {
          "base_uri": "https://localhost:8080/"
        },
        "id": "UnZKsC1hexPX",
        "outputId": "b40f3190-c18b-44d6-d249-421dbbdd2653"
      },
      "execution_count": 37,
      "outputs": [
        {
          "output_type": "stream",
          "name": "stdout",
          "text": [
            "0.3415590432306312\n"
          ]
        }
      ]
    },
    {
      "cell_type": "markdown",
      "source": [
        "A continuación, se presenta la simulación de una muestra aleatoria que representa la cantidad de veces que 10 pacientes acudieron al servicio de emergencias en los últimos 8 meses. 4 de ellos no asistieron en ese periodo, y los demás entre 1 y 2 veces.\n"
      ],
      "metadata": {
        "id": "uXJin1Ate13J"
      }
    },
    {
      "cell_type": "code",
      "source": [
        "np.random.seed(2025)\n",
        "print(np.random.poisson(lam=lambdaZ_est / 12 * 8, size=10))"
      ],
      "metadata": {
        "colab": {
          "base_uri": "https://localhost:8080/"
        },
        "id": "UQRN5Qbye26O",
        "outputId": "6fd7d75e-b646-494d-ca90-5d868066d2dc"
      },
      "execution_count": 38,
      "outputs": [
        {
          "output_type": "stream",
          "name": "stdout",
          "text": [
            "[0 2 0 0 1 2 1 1 0 2]\n"
          ]
        }
      ]
    },
    {
      "cell_type": "markdown",
      "source": [
        "# Distribución Geométrica"
      ],
      "metadata": {
        "id": "HjzywE4NfXf5"
      }
    },
    {
      "cell_type": "markdown",
      "source": [
        "Si asumimos que los valores $X_1$,...,$X_n$ siguen una distribución $Geom(\\pi)$, entonces se sabe que $\\hat{\\pi} =\\frac{1}{\\overline{x}+1}$ es el estimador de máxima verosimilitud y momentos.\n",
        "\n",
        "Para el caso, se define $Y$ como el número de intentos fallidos del paciente antes de lograr conseguir una cita, cuya distribución se asumirá $Geom(\\pi)$. Luego, se tiene que $\\hat{\\pi}=0.7339$ es la media estimada"
      ],
      "metadata": {
        "id": "5kYT11mLfZLo"
      }
    },
    {
      "cell_type": "code",
      "source": [
        "xbarra = datos[\"Cita\"].mean()\n",
        "pY_est = 1 / (xbarra + 1)\n",
        "print(pY_est)"
      ],
      "metadata": {
        "colab": {
          "base_uri": "https://localhost:8080/"
        },
        "id": "PmXpgjtsfV9Y",
        "outputId": "2103f76b-4254-48bd-b449-dbb762aa5c2c"
      },
      "execution_count": 39,
      "outputs": [
        {
          "output_type": "stream",
          "name": "stdout",
          "text": [
            "0.7339449541284403\n"
          ]
        }
      ]
    },
    {
      "cell_type": "markdown",
      "source": [
        "A partir de este valor estimado, se busca encontrar, ¿cuál es la probabilidad de que un paciente encuentre cita en su tercer intento?\n",
        "\n",
        "$$P(Y=2)=0.0520$$"
      ],
      "metadata": {
        "id": "PsgvLDs4fkdm"
      }
    },
    {
      "cell_type": "code",
      "source": [
        "from scipy.stats import geom\n",
        "print(geom.pmf(k=3, p=pY_est)) # Python no modela la cantidad de fracasos, sino la cantidad de intentos por eso k=3"
      ],
      "metadata": {
        "colab": {
          "base_uri": "https://localhost:8080/"
        },
        "id": "SSK1uAO6fprh",
        "outputId": "085c707a-c56a-49f9-bcb7-30b761bcefd2"
      },
      "execution_count": 40,
      "outputs": [
        {
          "output_type": "stream",
          "name": "stdout",
          "text": [
            "0.05195250453850843\n"
          ]
        }
      ]
    },
    {
      "cell_type": "markdown",
      "source": [
        "Asimismo, se generó una muestra aleatoria sintética de 10 pacientes que solicitaron una cita, registrando la cantidad de veces que llamaron sin éxito antes de lograr agendarla. Solo 2 de ellos tuvieron que llamar dos veces sin éxito y recién en el tercer intento agendó una cita. La mayoría sí consiguió agendar una cita al primer intento (0 fallas).\n"
      ],
      "metadata": {
        "id": "NntF-60jfw0C"
      }
    },
    {
      "cell_type": "code",
      "source": [
        "from scipy.stats import geom\n",
        "\n",
        "np.random.seed(555)\n",
        "print(geom.rvs(p=pY_est, size=10) - 1 ) # numpy no incluye directamente la distribución geométrica en np.random"
      ],
      "metadata": {
        "colab": {
          "base_uri": "https://localhost:8080/"
        },
        "id": "K_BzuBOLf1Tr",
        "outputId": "561ffe18-03d5-4767-ef59-e54df2aec89f"
      },
      "execution_count": 41,
      "outputs": [
        {
          "output_type": "stream",
          "name": "stdout",
          "text": [
            "[0 0 2 0 0 0 2 0 0 0]\n"
          ]
        }
      ]
    },
    {
      "cell_type": "markdown",
      "source": [
        "# Distribución Binomial Negativa"
      ],
      "metadata": {
        "id": "j8agXnz_f-Vf"
      }
    },
    {
      "cell_type": "markdown",
      "source": [
        "Si asumimos que los valores $X_1$,...,$X_n$ siguen una distribución $BinNeg(r,\\pi)$, entonces se sabe que $\\hat{\\pi} =\\frac{r}{\\overline{x}+r}$ es el estimador de momentos.\n",
        "\n",
        "Para el caso, se define $W$ como el número de sesiones de psicología sin mejoría antes de que el paciente registre 2 mejoras significativas, cuya distribución se asumirá $BinNeg(2,\\pi)$. Luego, se tiene que $\\hat{\\pi}=0.3893$ es la proporción de éxito estimada."
      ],
      "metadata": {
        "id": "QzSQzvmhgB8P"
      }
    },
    {
      "cell_type": "code",
      "source": [
        "xbarra = datos[\"Mejoria\"].mean()\n",
        "pW_est = 2 / (xbarra + 2)\n",
        "print(pW_est)"
      ],
      "metadata": {
        "colab": {
          "base_uri": "https://localhost:8080/"
        },
        "id": "xHGIoGnhgLH2",
        "outputId": "da8bea5f-317b-41b6-a6f9-0d0cb8fa3206"
      },
      "execution_count": 42,
      "outputs": [
        {
          "output_type": "stream",
          "name": "stdout",
          "text": [
            "0.389294403892944\n"
          ]
        }
      ]
    },
    {
      "cell_type": "markdown",
      "source": [
        "\n",
        "Con base en este valor estimado, se desea calcular la probabilidad de que un paciente experimente 3 sesiones sin mejoría antes de alcanzar 2 mejoras significativas.\n",
        "\n",
        "$$P(W=3)=0.1381$$"
      ],
      "metadata": {
        "id": "8SPvcIMpgOWq"
      }
    },
    {
      "cell_type": "code",
      "source": [
        "from scipy.stats import nbinom\n",
        "print(nbinom.pmf(k=3, n=2, p=pW_est)) # a diferencia de la geométrica, para la BN, R y Python entienden del mismo modo los argumentos / parámetros"
      ],
      "metadata": {
        "colab": {
          "base_uri": "https://localhost:8080/"
        },
        "id": "NcL8zUzMgWqZ",
        "outputId": "24c6cea5-965f-4c57-b212-5ec81b2d2b02"
      },
      "execution_count": 43,
      "outputs": [
        {
          "output_type": "stream",
          "name": "stdout",
          "text": [
            "0.13807403343649244\n"
          ]
        }
      ]
    },
    {
      "cell_type": "markdown",
      "source": [
        "Asimismo, se generó una muestra aleatoria sintética de 10 pacientes, para los cuales se registra la cantidad de sesiones psicológicas sin mejora antes de alcanzar 2 sesiones satisfactorias. Los dos primeros pacientes alcanzaron la mejoría en las 2 primeras sesiones (ya que su cantidad de fracasos es 0).\n"
      ],
      "metadata": {
        "id": "NQ4_htDLgpwn"
      }
    },
    {
      "cell_type": "code",
      "source": [
        "from scipy.stats import nbinom\n",
        "np.random.seed(222555)\n",
        "print(nbinom.rvs(n=2, p=pW_est, size=10))"
      ],
      "metadata": {
        "colab": {
          "base_uri": "https://localhost:8080/"
        },
        "id": "Oha8bgf-gtep",
        "outputId": "19fca116-19bc-4728-b8fd-7ca8585dfded"
      },
      "execution_count": 44,
      "outputs": [
        {
          "output_type": "stream",
          "name": "stdout",
          "text": [
            "[0 0 3 1 0 0 2 2 1 3]\n"
          ]
        }
      ]
    },
    {
      "cell_type": "markdown",
      "source": [
        "# Distribución Exponencial\n"
      ],
      "metadata": {
        "id": "Dpm65V7Jg5nG"
      }
    },
    {
      "cell_type": "markdown",
      "source": [
        "Si asumimos que los valores $X_1$,...,$X_n$ siguen una distribución $Exp(\\lambda)$, entonces se sabe que $\\hat{\\lambda} = \\frac{1}{\\overline{x}}$ es el estimador de máxima verosimilitud y momentos.\n",
        "\n",
        "Para el caso, se define $E$ como el tiempo de espera del paciente (en horas), cuya distribución se asumirá $Exp(\\lambda)$. Luego, se tiene que $\\hat{\\lambda}=2.0833$.\n"
      ],
      "metadata": {
        "id": "9pxbCaxhg6qC"
      }
    },
    {
      "cell_type": "code",
      "source": [
        "lambdaE_est = 1 / datos[\"Espera\"].mean()\n",
        "print(lambdaE_est)"
      ],
      "metadata": {
        "colab": {
          "base_uri": "https://localhost:8080/"
        },
        "id": "bGEmAlyug-z_",
        "outputId": "b19a2ffd-3e9a-4dc1-b6ca-6623b50c2f97"
      },
      "execution_count": 45,
      "outputs": [
        {
          "output_type": "stream",
          "name": "stdout",
          "text": [
            "2.083333333333333\n"
          ]
        }
      ]
    },
    {
      "cell_type": "markdown",
      "source": [
        "\n",
        "Con base en este valor estimado, se desea calcular la probabilidad de que un paciente espere entre 25 y 40 minutos para ser atendido.\n",
        "\n",
        "$$P\\left(\\frac{25}{60}<E<\\frac{40}{60}\\right)=0.1704$$"
      ],
      "metadata": {
        "id": "6dTmBz4Bg-dS"
      }
    },
    {
      "cell_type": "code",
      "source": [
        "from scipy.stats import expon\n",
        "print(expon.cdf(x=40/60, scale=1/lambdaE_est) - expon.cdf(x=25/60, scale=1/lambdaE_est))\n",
        "# el argumento es 1/lambda, a diferencia de R que se coloca directamente lambda"
      ],
      "metadata": {
        "colab": {
          "base_uri": "https://localhost:8080/"
        },
        "id": "qtaVZ4T5hE8b",
        "outputId": "c22a47bf-15ec-40b7-e00a-8a3d9226b52b"
      },
      "execution_count": 46,
      "outputs": [
        {
          "output_type": "stream",
          "name": "stdout",
          "text": [
            "0.17041476099580788\n"
          ]
        }
      ]
    },
    {
      "cell_type": "markdown",
      "source": [
        "Asimismo, se generó una muestra aleatoria sintética de 10 tiempos de espera, los cuales fluctuaron entre aproximadamente 1 minuto (0.0109 horas) y 42 minutos (0.70390774 horas).\n"
      ],
      "metadata": {
        "id": "P-TMuBevhEuw"
      }
    },
    {
      "cell_type": "code",
      "source": [
        "from scipy.stats import expon\n",
        "np.random.seed(111)\n",
        "print(expon.rvs(scale=1/lambdaE_est, size=10))"
      ],
      "metadata": {
        "colab": {
          "base_uri": "https://localhost:8080/"
        },
        "id": "lLbJxoCOhOum",
        "outputId": "835231dd-4176-430b-a801-7af6b2f51683"
      },
      "execution_count": 47,
      "outputs": [
        {
          "output_type": "stream",
          "name": "stdout",
          "text": [
            "[0.45465054 0.08890053 0.27494673 0.70390774 0.16800912 0.07753664\n",
            " 0.01091271 0.26165487 0.13089807 0.19774584]\n"
          ]
        }
      ]
    },
    {
      "cell_type": "code",
      "source": [
        "np.random.seed(111)\n",
        "print(expon.rvs(scale=1/lambdaE_est, size=10)*60)"
      ],
      "metadata": {
        "colab": {
          "base_uri": "https://localhost:8080/"
        },
        "id": "rdH-IXaYhhzu",
        "outputId": "a3ef9e54-53ac-4f05-87bb-027275363709"
      },
      "execution_count": 48,
      "outputs": [
        {
          "output_type": "stream",
          "name": "stdout",
          "text": [
            "[27.27903262  5.33403152 16.4968035  42.23446442 10.08054741  4.65219814\n",
            "  0.65476261 15.69929201  7.85388449 11.8647507 ]\n"
          ]
        }
      ]
    },
    {
      "cell_type": "markdown",
      "source": [
        "# Distribución Normal\n"
      ],
      "metadata": {
        "id": "KTlVYP3mhn5u"
      }
    },
    {
      "cell_type": "markdown",
      "source": [
        "Si asumimos que los valores $X_1$,...,$X_n$ siguen una distribución $N(\\mu,\\sigma^2)$, entonces se sabe que $\\hat{\\mu} = \\overline{x}$ y $\\hat{\\sigma^2}=s^2$ son los estimadores de máxima verosimilitud y momentos.\n",
        "\n",
        "Para el caso, se define $S$ como la presión sistólica del paciente, cuya distribución se asumirá $N(\\mu,\\sigma^2)$. Luego, se tiene que $\\hat{\\mu}=121.08$ y $\\hat{\\sigma}^2=200.43$"
      ],
      "metadata": {
        "id": "y-a31gL6wY45"
      }
    },
    {
      "cell_type": "code",
      "source": [
        "muS_est = datos[\"Presion\"].mean()\n",
        "print(muS_est)"
      ],
      "metadata": {
        "colab": {
          "base_uri": "https://localhost:8080/"
        },
        "id": "qZRynrkCwm4l",
        "outputId": "4d7f5645-d72e-4dbb-94f5-7035401f485c"
      },
      "execution_count": 50,
      "outputs": [
        {
          "output_type": "stream",
          "name": "stdout",
          "text": [
            "121.075\n"
          ]
        }
      ]
    },
    {
      "cell_type": "code",
      "source": [
        "s2S_est = datos[\"Presion\"].var(ddof=1)\n",
        "print(s2S_est)"
      ],
      "metadata": {
        "colab": {
          "base_uri": "https://localhost:8080/"
        },
        "id": "f4lZJMwpwpHt",
        "outputId": "eb1715ac-1cd4-4df0-e450-33f8bdbb44c5"
      },
      "execution_count": 51,
      "outputs": [
        {
          "output_type": "stream",
          "name": "stdout",
          "text": [
            "200.42468354430375\n"
          ]
        }
      ]
    },
    {
      "cell_type": "markdown",
      "source": [
        "Con base en este valor estimado, se desea calcular la probabilidad de que la presión sistólica de un paciente sea menor a 130 si se sabe que es mayor de 120 mmHg.\n",
        "\n",
        "$$P(S<130|S>120)=\\frac{P(120<S<130)}{P(S>120)}=\\frac{0.2660553}{0.530264}=0.5017$$"
      ],
      "metadata": {
        "id": "qlNLOKksw0Ta"
      }
    },
    {
      "cell_type": "code",
      "source": [
        "from scipy.stats import norm\n",
        "\n",
        "num = norm.cdf(x=130, loc=muS_est, scale=np.sqrt(s2S_est)) - \\\n",
        "      norm.cdf(x=120, loc=muS_est, scale=np.sqrt(s2S_est))\n",
        "\n",
        "den = 1 - norm.cdf(x=120, loc=muS_est, scale=np.sqrt(s2S_est))\n",
        "\n",
        "print(num / den)"
      ],
      "metadata": {
        "colab": {
          "base_uri": "https://localhost:8080/"
        },
        "id": "nhmqI8RLxGcu",
        "outputId": "b1ac720f-3af9-4d07-9cab-e7f4b5d84325"
      },
      "execution_count": 52,
      "outputs": [
        {
          "output_type": "stream",
          "name": "stdout",
          "text": [
            "0.5017412418376257\n"
          ]
        }
      ]
    },
    {
      "cell_type": "markdown",
      "source": [
        "Asimismo, se generó una muestra aleatoria sintética de 10 presiones sistólicas, los cuales fluctuaron entre 100.35 mmHg y 136.39 mmHg.\n"
      ],
      "metadata": {
        "id": "PoMnu0t_wlg7"
      }
    },
    {
      "cell_type": "code",
      "source": [
        "np.random.seed(22)\n",
        "print(np.random.normal(loc=muS_est, scale=np.sqrt(s2S_est), size=10))"
      ],
      "metadata": {
        "colab": {
          "base_uri": "https://localhost:8080/"
        },
        "id": "ya38K2PzxwTE",
        "outputId": "dd1f6085-7e13-4277-ab3b-a6e1567f30fc"
      },
      "execution_count": 53,
      "outputs": [
        {
          "output_type": "stream",
          "name": "stdout",
          "text": [
            "[119.77325188 100.35813629 136.39007895 117.68683949 114.12201484\n",
            " 106.88569233 134.08288694 105.45072309 129.94435713 113.1255694 ]\n"
          ]
        }
      ]
    },
    {
      "cell_type": "markdown",
      "source": [
        "## Distribución muestral de la media\n"
      ],
      "metadata": {
        "id": "2241vHmRx4x3"
      }
    },
    {
      "cell_type": "markdown",
      "source": [
        "### Ejemplo 1\n"
      ],
      "metadata": {
        "id": "Tq30ZN_Ex7P-"
      }
    },
    {
      "cell_type": "markdown",
      "source": [
        "Si se extrae una muestra aleatoria de 23 pacientes, ¿cuál es la probabilidad de que la presión sistólica media se encuentre entre 122 y 125 mmHg?\n",
        "\n",
        "$$\\overline{S}\\sim N\\left(\\mu_{\\overline{S}}=121.08,\\sigma^2_{\\overline{S}}=\\frac{200.43}{23}\\right)$$\n",
        "\n",
        "$$\\overline{S}\\sim N\\left(\\mu_{\\overline{S}}=121.08,\\sigma^2_{\\overline{S}}=8.7143\\right)$$\n",
        "\n",
        "$$P(122<\\overline{S}<125) = 0.2855$$\n"
      ],
      "metadata": {
        "id": "Wh6xb3_Ox8Yd"
      }
    },
    {
      "cell_type": "code",
      "source": [
        "from scipy.stats import norm\n",
        "\n",
        "p1 = norm.cdf(x=125, loc=121.08, scale=np.sqrt(s2S_est / 23))\n",
        "p2 = norm.cdf(x=122, loc=121.08, scale=np.sqrt(s2S_est / 23))\n",
        "print(p1 - p2)"
      ],
      "metadata": {
        "colab": {
          "base_uri": "https://localhost:8080/"
        },
        "id": "NFZpTnqEx4Xl",
        "outputId": "ac611c45-03d3-43db-e536-f5a903a08e22"
      },
      "execution_count": 54,
      "outputs": [
        {
          "output_type": "stream",
          "name": "stdout",
          "text": [
            "0.28554978714138624\n"
          ]
        }
      ]
    },
    {
      "cell_type": "markdown",
      "source": [
        "### Ejemplo 2\n"
      ],
      "metadata": {
        "id": "QsjfOnMRyISU"
      }
    },
    {
      "cell_type": "markdown",
      "source": [
        "¿Cuál es la probabilidad de que, en una muestra de 39 pacientes, la media muestral del número de visitas a emergencias en el último año supere el valor de 1?\n",
        "\n",
        "$$\\overline{Z}\\sim N\\left(\\mu_{\\overline{Z}}=1.325,\\sigma^2_{\\overline{Z}}=\\frac{1.325}{39}\\right)$$\n",
        "$$\\overline{Z}\\sim N\\left(\\mu_{\\overline{Z}}=1.325,\\sigma^2_{\\overline{Z}}=0.03397\\right)$$\n",
        "$$P(\\overline{Z}>1)=0.9611$$"
      ],
      "metadata": {
        "id": "OwM8xF2CyLLF"
      }
    },
    {
      "cell_type": "code",
      "source": [
        "print(1 - norm.cdf(x=1, loc=lambdaZ_est, scale=np.sqrt(lambdaZ_est / 39)))"
      ],
      "metadata": {
        "colab": {
          "base_uri": "https://localhost:8080/"
        },
        "id": "hqbtkMybyK3H",
        "outputId": "166ddec7-6697-45d9-921f-778d945456bc"
      },
      "execution_count": 55,
      "outputs": [
        {
          "output_type": "stream",
          "name": "stdout",
          "text": [
            "0.9610687222896254\n"
          ]
        }
      ]
    },
    {
      "cell_type": "markdown",
      "source": [
        "Es altamente probable que, en promedio, los pacientes acudan más de una vez al año al servicio de emergencias.\n"
      ],
      "metadata": {
        "id": "6_cDch7Qypel"
      }
    }
  ]
}