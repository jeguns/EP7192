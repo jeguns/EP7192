{
  "nbformat": 4,
  "nbformat_minor": 0,
  "metadata": {
    "colab": {
      "provenance": [],
      "authorship_tag": "ABX9TyPMNHC88YfjoQ5JLjEWjBWi",
      "include_colab_link": true
    },
    "kernelspec": {
      "name": "python3",
      "display_name": "Python 3"
    },
    "language_info": {
      "name": "python"
    }
  },
  "cells": [
    {
      "cell_type": "markdown",
      "metadata": {
        "id": "view-in-github",
        "colab_type": "text"
      },
      "source": [
        "<a href=\"https://colab.research.google.com/github/jeguns/EP7192/blob/main/Capitulo_1/Unidad_1_Python.ipynb\" target=\"_parent\"><img src=\"https://colab.research.google.com/assets/colab-badge.svg\" alt=\"Open In Colab\"/></a>"
      ]
    },
    {
      "cell_type": "markdown",
      "source": [
        "# Carga de paquetes"
      ],
      "metadata": {
        "id": "H_wMtnHoU18z"
      }
    },
    {
      "cell_type": "code",
      "source": [
        "!pip install pywaffle > /dev/null 2>&1\n",
        "!pip install squarify > /dev/null 2>&1\n",
        "!pip install ydata-profiling  > /dev/null 2>&1\n",
        "!pip install skimpy > /dev/null 2>&1"
      ],
      "metadata": {
        "id": "4pGbLgvbU2Lq"
      },
      "execution_count": null,
      "outputs": []
    },
    {
      "cell_type": "code",
      "execution_count": null,
      "metadata": {
        "id": "LJKXOuk-ABvP"
      },
      "outputs": [],
      "source": [
        "import pandas as pd\n",
        "import numpy as np\n",
        "import statistics as stats\n",
        "from scipy.stats import iqr, variation, skew\n",
        "import math\n",
        "import matplotlib.pyplot as plt\n",
        "from pywaffle import Waffle\n",
        "import squarify\n",
        "import seaborn as sns\n",
        "from skimpy import skim\n",
        "from ydata_profiling import ProfileReport"
      ]
    },
    {
      "cell_type": "markdown",
      "source": [
        "# Lectura de datos"
      ],
      "metadata": {
        "id": "Pfe175FGA4XA"
      }
    },
    {
      "cell_type": "code",
      "source": [
        "datos = pd.read_csv('Salud.csv')"
      ],
      "metadata": {
        "id": "upJgeiwyAmix"
      },
      "execution_count": null,
      "outputs": []
    },
    {
      "cell_type": "code",
      "source": [
        "datos.head(5)"
      ],
      "metadata": {
        "id": "OkgVjLhoA1TO"
      },
      "execution_count": null,
      "outputs": []
    },
    {
      "cell_type": "code",
      "source": [
        "datos.tail(5)"
      ],
      "metadata": {
        "id": "OB7rPqjNA2CS"
      },
      "execution_count": null,
      "outputs": []
    },
    {
      "cell_type": "markdown",
      "source": [
        "# Medidas de tendencia central"
      ],
      "metadata": {
        "id": "awXoco22A6a2"
      }
    },
    {
      "cell_type": "markdown",
      "source": [
        "## Media"
      ],
      "metadata": {
        "id": "upD4UoMrA8X5"
      }
    },
    {
      "cell_type": "markdown",
      "source": [
        "### Ejemplo 1"
      ],
      "metadata": {
        "id": "e_QNIb5xBPIA"
      }
    },
    {
      "cell_type": "markdown",
      "source": [
        "Interpretar la media aritmética de la edad"
      ],
      "metadata": {
        "id": "3Wi2AZ05BbEX"
      }
    },
    {
      "cell_type": "code",
      "source": [
        "datos['Edad'].mean()"
      ],
      "metadata": {
        "id": "bpMSF2ZRBbsA"
      },
      "execution_count": null,
      "outputs": []
    },
    {
      "cell_type": "code",
      "source": [
        "np.mean(datos['Edad'])"
      ],
      "metadata": {
        "id": "PzORD25wBoPO"
      },
      "execution_count": null,
      "outputs": []
    },
    {
      "cell_type": "code",
      "source": [
        "float(datos['Edad'].mean())"
      ],
      "metadata": {
        "id": "dYyO3DgoC3Nq"
      },
      "execution_count": null,
      "outputs": []
    },
    {
      "cell_type": "code",
      "source": [
        "float(np.mean(datos['Edad']))"
      ],
      "metadata": {
        "id": "RG0ZrwcuC4e4"
      },
      "execution_count": null,
      "outputs": []
    },
    {
      "cell_type": "code",
      "source": [
        "stats.mean(datos['Edad'])"
      ],
      "metadata": {
        "id": "xRDtn6RwC_yE"
      },
      "execution_count": null,
      "outputs": []
    },
    {
      "cell_type": "markdown",
      "source": [
        "La edad promedio de los pacientes es de 46 años."
      ],
      "metadata": {
        "id": "t7vdV_bbDLvJ"
      }
    },
    {
      "cell_type": "markdown",
      "source": [
        "### Ejemplo 2"
      ],
      "metadata": {
        "id": "UAC-R5mDDM8i"
      }
    },
    {
      "cell_type": "markdown",
      "source": [
        "Interpretar la presión sistólica media de los pacientes mayores de 50 años."
      ],
      "metadata": {
        "id": "P4h0gl5FDN70"
      }
    },
    {
      "cell_type": "code",
      "source": [
        " datos.loc[datos['Edad'] > 50].agg(Media=('Presion_sistolica', 'mean'))"
      ],
      "metadata": {
        "id": "lQK61XjGDgj2"
      },
      "execution_count": null,
      "outputs": []
    },
    {
      "cell_type": "code",
      "source": [
        "(datos\n",
        " .loc[datos['Edad'] > 50]\n",
        " .agg(Media=('Presion_sistolica', 'mean')))"
      ],
      "metadata": {
        "id": "vjfmfjbmDaui"
      },
      "execution_count": null,
      "outputs": []
    },
    {
      "cell_type": "markdown",
      "source": [
        "La presión sistólica promedio de los pacientes mayores de 50 años es de 130 mmHg."
      ],
      "metadata": {
        "id": "9cMZHhQUDtRu"
      }
    },
    {
      "cell_type": "markdown",
      "source": [
        "## Mediana"
      ],
      "metadata": {
        "id": "wWFc3AZxDvI8"
      }
    },
    {
      "cell_type": "markdown",
      "source": [
        "### Ejemplo 3"
      ],
      "metadata": {
        "id": "GVjmGMYsDwTi"
      }
    },
    {
      "cell_type": "markdown",
      "source": [
        "Interpretar la mediana del IMC"
      ],
      "metadata": {
        "id": "mEz-nMicDyjo"
      }
    },
    {
      "cell_type": "code",
      "source": [
        "datos['IMC'].median()"
      ],
      "metadata": {
        "id": "D1D2cvJfD0il"
      },
      "execution_count": null,
      "outputs": []
    },
    {
      "cell_type": "code",
      "source": [
        "np.median(datos['IMC'])"
      ],
      "metadata": {
        "id": "t5IiGYVFD3l2"
      },
      "execution_count": null,
      "outputs": []
    },
    {
      "cell_type": "code",
      "source": [
        "float(np.median(datos['IMC']))"
      ],
      "metadata": {
        "id": "eRabWDtjD6Ac"
      },
      "execution_count": null,
      "outputs": []
    },
    {
      "cell_type": "code",
      "source": [
        "stats.median(datos['IMC'])"
      ],
      "metadata": {
        "id": "RI1Ds6iYD8Lu"
      },
      "execution_count": null,
      "outputs": []
    },
    {
      "cell_type": "markdown",
      "source": [
        "Al menos la mitad de las personas tiene un IMC menor o igual a 19.2."
      ],
      "metadata": {
        "id": "_-1nF24aD_Tl"
      }
    },
    {
      "cell_type": "markdown",
      "source": [
        "### Ejemplo 4"
      ],
      "metadata": {
        "id": "XFesp5gID_6C"
      }
    },
    {
      "cell_type": "markdown",
      "source": [
        "Interpretar la mediana de la presión sistólica para las personas que son sedentarias (menos de\n",
        "30 minutos de ejercicios a la semana) y las que no lo son."
      ],
      "metadata": {
        "id": "7kVx4FCOEFha"
      }
    },
    {
      "cell_type": "code",
      "source": [
        "datos = datos.assign(\n",
        "    Sedentario = np.where(datos[\"Minutos_ejercicio\"] < 30, \"Sí\", \"No\"))"
      ],
      "metadata": {
        "id": "RXtgTB95EaOQ"
      },
      "execution_count": null,
      "outputs": []
    },
    {
      "cell_type": "code",
      "source": [
        "datos.groupby(\"Sedentario\", as_index=False).agg(Medianas=(\"Presion_sistolica\", \"median\"))"
      ],
      "metadata": {
        "id": "yAA59ViOEfxq"
      },
      "execution_count": null,
      "outputs": []
    },
    {
      "cell_type": "code",
      "source": [
        "(datos\n",
        " .groupby(\"Sedentario\", as_index=True)\n",
        " .agg(Medianas=(\"Presion_sistolica\", \"median\")))"
      ],
      "metadata": {
        "id": "gej2jA3nEcuM"
      },
      "execution_count": null,
      "outputs": []
    },
    {
      "cell_type": "markdown",
      "source": [
        "Al menos la mitad de las personas sedentarias presenta una presión sistólica de como máximo\n",
        "137.5 mmHg (¡elevada!). Por otro lado, al menos el 50% de las personas que no son sedentarias\n",
        "tiene una presión sistólica menor o igual a 121 mmHg (casi en el rango normal)."
      ],
      "metadata": {
        "id": "nlIRZYJUEj36"
      }
    },
    {
      "cell_type": "markdown",
      "source": [
        "## Moda"
      ],
      "metadata": {
        "id": "rMQsAwtjEm0W"
      }
    },
    {
      "cell_type": "markdown",
      "source": [
        "### Ejemplo 5"
      ],
      "metadata": {
        "id": "PK9LQLl1EoR4"
      }
    },
    {
      "cell_type": "markdown",
      "source": [
        "Interpretar la moda de la presión sistólica"
      ],
      "metadata": {
        "id": "eU-Lh6LUEpGR"
      }
    },
    {
      "cell_type": "code",
      "source": [
        "datos[\"Presion_sistolica\"].mode()"
      ],
      "metadata": {
        "id": "KAf-1L00E7gW"
      },
      "execution_count": null,
      "outputs": []
    },
    {
      "cell_type": "markdown",
      "source": [
        "La presión sistólica más frecuente es de 121 mHg."
      ],
      "metadata": {
        "id": "etWtmwAZFk3G"
      }
    },
    {
      "cell_type": "markdown",
      "source": [
        "### Ejemplo 6"
      ],
      "metadata": {
        "id": "GG4v7ONzFJ13"
      }
    },
    {
      "cell_type": "markdown",
      "source": [
        "Interpretar la moda de la edad"
      ],
      "metadata": {
        "id": "Wk0gPO5RFU5M"
      }
    },
    {
      "cell_type": "code",
      "source": [
        "datos[\"Edad\"].mode()"
      ],
      "metadata": {
        "id": "mg04Z1byFisC"
      },
      "execution_count": null,
      "outputs": []
    },
    {
      "cell_type": "markdown",
      "source": [
        "Las edades más frecuentes de los pacientes son 36 y 59 años."
      ],
      "metadata": {
        "id": "b6r6wSc1Fmeg"
      }
    },
    {
      "cell_type": "markdown",
      "source": [
        "### Ejemplo 7"
      ],
      "metadata": {
        "id": "n6x-AYqQFm-a"
      }
    },
    {
      "cell_type": "markdown",
      "source": [
        "Intepretar la moda del tiempo semanal de ejercicio de los pacientes sedentarios"
      ],
      "metadata": {
        "id": "PetaMGpXFtOA"
      }
    },
    {
      "cell_type": "code",
      "source": [
        "(datos\n",
        " .loc[datos[\"Sedentario\"] == \"Sí\", \"Minutos_ejercicio\"]\n",
        " .mode())"
      ],
      "metadata": {
        "id": "_T6F1rgQFz0E"
      },
      "execution_count": null,
      "outputs": []
    },
    {
      "cell_type": "markdown",
      "source": [
        "El tiempo de ejercicios más frecuente entre los pacientes sedentarios es de 15 minutos."
      ],
      "metadata": {
        "id": "aB6Eb5G3F2C-"
      }
    },
    {
      "cell_type": "markdown",
      "source": [
        "## Medidas de posición"
      ],
      "metadata": {
        "id": "ZNJw9EN1F5Di"
      }
    },
    {
      "cell_type": "markdown",
      "source": [
        "### Ejemplo 8"
      ],
      "metadata": {
        "id": "Pv3HbUo0F7HW"
      }
    },
    {
      "cell_type": "markdown",
      "source": [
        "Interpretar el percentil 41 de la eda"
      ],
      "metadata": {
        "id": "iHjZD-qZF67Q"
      }
    },
    {
      "cell_type": "code",
      "source": [
        "datos['Edad'].quantile(0.41)"
      ],
      "metadata": {
        "id": "icgWq3weGB_W"
      },
      "execution_count": null,
      "outputs": []
    },
    {
      "cell_type": "code",
      "source": [
        "float(datos['Edad'].quantile(0.41))"
      ],
      "metadata": {
        "id": "mgnrEvZXGGAA"
      },
      "execution_count": null,
      "outputs": []
    },
    {
      "cell_type": "markdown",
      "source": [
        "Al menos el 41% de los pacientes tiene 42 años de edad o menos."
      ],
      "metadata": {
        "id": "qHN-D4hzGEwT"
      }
    },
    {
      "cell_type": "markdown",
      "source": [
        "### Ejemplo 9"
      ],
      "metadata": {
        "id": "tUzEJ5pIGMcG"
      }
    },
    {
      "cell_type": "markdown",
      "source": [
        "Interpretar los percentiles 12 y 74 de los tiempos semanales de ejercicio de las personas no\n",
        "sedentarias"
      ],
      "metadata": {
        "id": "9lmrB1xgGO4h"
      }
    },
    {
      "cell_type": "code",
      "source": [
        "(datos\n",
        " .loc[datos[\"Sedentario\"] == \"No\", \"Minutos_ejercicio\"]\n",
        " .quantile([0.12, 0.74]))"
      ],
      "metadata": {
        "id": "61Ixg_mmGUzA"
      },
      "execution_count": null,
      "outputs": []
    },
    {
      "cell_type": "markdown",
      "source": [
        "Al menos el 12% de los pacientes no sedentarios realiza como máximo 61.44 minutos de ejercicio\n",
        "a la semana, mientras que al menos el 74% realiza hasta 240.76 minutos semanales de actividad\n",
        "física."
      ],
      "metadata": {
        "id": "njZSlgHaGUQ8"
      }
    },
    {
      "cell_type": "markdown",
      "source": [
        "### Ejemplo 10"
      ],
      "metadata": {
        "id": "T7ef0zAMGb1c"
      }
    },
    {
      "cell_type": "markdown",
      "source": [
        "Interpretar los cuartiles del IMC de las personas adultas mayores (60 años a más)"
      ],
      "metadata": {
        "id": "qFwy72_QGkrI"
      }
    },
    {
      "cell_type": "code",
      "source": [
        "(datos\n",
        " .loc[datos[\"Edad\"] > 60, \"IMC\"]\n",
        " .quantile([0.25, 0.50, 0.75]))"
      ],
      "metadata": {
        "id": "-ELE5mMzGmlK"
      },
      "execution_count": null,
      "outputs": []
    },
    {
      "cell_type": "markdown",
      "source": [
        "Al menos el 25% de los pacientes tiene un IMC igual o inferior a 19.425, mientras que como\n",
        "máximo el 50% tiene un IMC igual o inferior a 20. Además, hasta el 75% de los pacientes\n",
        "presenta un IMC igual o inferior a 20.925."
      ],
      "metadata": {
        "id": "V7CWe2ggG4a8"
      }
    },
    {
      "cell_type": "markdown",
      "source": [
        "### Ejemplo 11"
      ],
      "metadata": {
        "id": "wkJqbHdEG85S"
      }
    },
    {
      "cell_type": "markdown",
      "source": [
        "¿Cuál es el tiempo máximo de ejercicio semanal que realiza un paciente joven (menor de 30\n",
        "años) para estar dentro del 20% que menos ejercicio realiza?"
      ],
      "metadata": {
        "id": "ivCdS2BIG-hk"
      }
    },
    {
      "cell_type": "code",
      "source": [
        "(datos\n",
        " .loc[datos[\"Edad\"] < 30, \"Minutos_ejercicio\"]\n",
        " .quantile([0.2]))"
      ],
      "metadata": {
        "id": "mE_iXzzDG_t2"
      },
      "execution_count": null,
      "outputs": []
    },
    {
      "cell_type": "markdown",
      "source": [
        "58 minutos semanales es el tiempo máximo de ejercicio que realiza un paciente joven (menor\n",
        "de 30 años) para estar dentro del 20% que menos ejercicio realiza."
      ],
      "metadata": {
        "id": "XlPDp5qJHE1X"
      }
    },
    {
      "cell_type": "markdown",
      "source": [
        "# Medidas de dispersión"
      ],
      "metadata": {
        "id": "k4i0hfJvHFdC"
      }
    },
    {
      "cell_type": "markdown",
      "source": [
        "## Rango"
      ],
      "metadata": {
        "id": "4WpJ8dYcIQIH"
      }
    },
    {
      "cell_type": "markdown",
      "source": [
        "### Ejemplo 12"
      ],
      "metadata": {
        "id": "MCMcUlPUIRhw"
      }
    },
    {
      "cell_type": "markdown",
      "source": [
        "Interpretar el rango de la edad"
      ],
      "metadata": {
        "id": "a3CeM3f_ISbc"
      }
    },
    {
      "cell_type": "code",
      "source": [
        "np.ptp(datos['Edad'])"
      ],
      "metadata": {
        "id": "nT7i1uV7If43"
      },
      "execution_count": null,
      "outputs": []
    },
    {
      "cell_type": "code",
      "source": [
        "float(np.ptp(datos['Edad']))"
      ],
      "metadata": {
        "id": "vp7M0u0vIjH-"
      },
      "execution_count": null,
      "outputs": []
    },
    {
      "cell_type": "markdown",
      "source": [
        "La amplitud de la edad es de 49 años."
      ],
      "metadata": {
        "id": "gkZHrgiQImVk"
      }
    },
    {
      "cell_type": "markdown",
      "source": [
        "### Ejemplo 13"
      ],
      "metadata": {
        "id": "a7hX3i0EImlV"
      }
    },
    {
      "cell_type": "markdown",
      "source": [
        "Interpretar el rango del IMC para cada grupo de personas según su nivel de actividad física\n",
        "(sedentario / no sedentario)."
      ],
      "metadata": {
        "id": "qCkCWH_6Iofw"
      }
    },
    {
      "cell_type": "code",
      "source": [
        "(datos\n",
        " .groupby(\"Sedentario\", as_index=True)\n",
        " .agg(r=(\"IMC\", lambda x: np.ptp(x))))"
      ],
      "metadata": {
        "id": "KgMw1cewIqcG"
      },
      "execution_count": null,
      "outputs": []
    },
    {
      "cell_type": "markdown",
      "source": [
        "La amplitud del IMC de las personas sedentarias es de 4.7 puntos, mientras que para las no\n",
        "sedentarias es de 9.5 puntos."
      ],
      "metadata": {
        "id": "K_v-vZw8Iz53"
      }
    },
    {
      "cell_type": "markdown",
      "source": [
        "## Rango intercuartil"
      ],
      "metadata": {
        "id": "RBCS2magI0TU"
      }
    },
    {
      "cell_type": "markdown",
      "source": [
        "### Ejemplo 14"
      ],
      "metadata": {
        "id": "5E_8pOJvJKKY"
      }
    },
    {
      "cell_type": "markdown",
      "source": [
        "Interpretar el rango intercuartil de la edad"
      ],
      "metadata": {
        "id": "RXvcRPpZJIOU"
      }
    },
    {
      "cell_type": "code",
      "source": [
        "float(datos[\"Edad\"].quantile(0.75) - datos[\"Edad\"].quantile(0.25))"
      ],
      "metadata": {
        "id": "wx7mIsx5KcdT"
      },
      "execution_count": null,
      "outputs": []
    },
    {
      "cell_type": "code",
      "source": [
        "float(iqr(datos[\"Edad\"]) )"
      ],
      "metadata": {
        "id": "QYNVAvTAKgOx"
      },
      "execution_count": null,
      "outputs": []
    },
    {
      "cell_type": "markdown",
      "source": [
        "La amplitud del 50% central de las edades es de 22.25 años."
      ],
      "metadata": {
        "id": "_LNWcaxjKnMT"
      }
    },
    {
      "cell_type": "markdown",
      "source": [
        "### Ejemplo 15"
      ],
      "metadata": {
        "id": "bgoJCaSpKpJu"
      }
    },
    {
      "cell_type": "markdown",
      "source": [
        "Interpretar el rango intercuartil del IMC para cada grupo de personas según su nivel de\n",
        "actividad física (sedentario / no sedentario)."
      ],
      "metadata": {
        "id": "4f30sDD2Kq-D"
      }
    },
    {
      "cell_type": "code",
      "source": [
        "(datos\n",
        " .groupby(\"Sedentario\", as_index=True)\n",
        " .agg(ric=(\"IMC\", lambda x: iqr(x))))"
      ],
      "metadata": {
        "id": "-z2mXyfcKvUn"
      },
      "execution_count": null,
      "outputs": []
    },
    {
      "cell_type": "markdown",
      "source": [
        "La amplitud del 50% central de los datos de IMC de las personas sedentarias es de 1.7 puntos,\n",
        "mientras que para las no sedentarias es de 2.6 puntos."
      ],
      "metadata": {
        "id": "qUQd0J8rK8FP"
      }
    },
    {
      "cell_type": "markdown",
      "source": [
        "## Varianza"
      ],
      "metadata": {
        "id": "MMbdYea0LEPM"
      }
    },
    {
      "cell_type": "markdown",
      "source": [
        "### Ejemplo 16"
      ],
      "metadata": {
        "id": "peJdXySxLT-R"
      }
    },
    {
      "cell_type": "markdown",
      "source": [
        "Calcular la varianza del tiempo semanal de ejercicios."
      ],
      "metadata": {
        "id": "pFv40OLkLGoG"
      }
    },
    {
      "cell_type": "code",
      "source": [
        "datos['Minutos_ejercicio'].var()"
      ],
      "metadata": {
        "id": "PpLNNKBvLMsr"
      },
      "execution_count": null,
      "outputs": []
    },
    {
      "cell_type": "markdown",
      "source": [
        "La varianza del tiempo semanal de ejercicios es de 8183 $minutos^2$"
      ],
      "metadata": {
        "id": "sLx0AK23LBwt"
      }
    },
    {
      "cell_type": "markdown",
      "source": [
        "## Desviación estándar"
      ],
      "metadata": {
        "id": "KPix1fVyLV4A"
      }
    },
    {
      "cell_type": "markdown",
      "source": [
        "### Ejemplo 17"
      ],
      "metadata": {
        "id": "n3QPMzJBLXTK"
      }
    },
    {
      "cell_type": "markdown",
      "source": [
        "Interpretar la desviación estándar del tiempo semanal de ejercicios."
      ],
      "metadata": {
        "id": "qlX-h8hOLZLI"
      }
    },
    {
      "cell_type": "code",
      "source": [
        "datos['Minutos_ejercicio'].std()"
      ],
      "metadata": {
        "id": "gB5Jsu2qLavL"
      },
      "execution_count": null,
      "outputs": []
    },
    {
      "cell_type": "code",
      "source": [
        "math.sqrt(datos['Minutos_ejercicio'].var())"
      ],
      "metadata": {
        "id": "DlTL7Ng3Lhe9"
      },
      "execution_count": null,
      "outputs": []
    },
    {
      "cell_type": "markdown",
      "source": [
        "En promedio, el tiempo semanal de ejercicios se desvía 90.5 minutos respecto su media."
      ],
      "metadata": {
        "id": "6r-jky87LgNO"
      }
    },
    {
      "cell_type": "markdown",
      "source": [
        "## Coeficiente de variabilidad"
      ],
      "metadata": {
        "id": "flF_ac6LLo6u"
      }
    },
    {
      "cell_type": "markdown",
      "source": [
        "### Ejemplo 18"
      ],
      "metadata": {
        "id": "4jQwyD4uLrLH"
      }
    },
    {
      "cell_type": "markdown",
      "source": [
        "¿Qué variable presenta mayor variabilidad: el IMC o la presión sistólica?"
      ],
      "metadata": {
        "id": "G88bfkWELtpx"
      }
    },
    {
      "cell_type": "code",
      "source": [
        "pd.DataFrame({\n",
        "    \"s_imc\": [datos[\"IMC\"].std()],\n",
        "    \"s_pres\": [datos[\"Presion_sistolica\"].std()],\n",
        "    \"m_imc\": [datos[\"IMC\"].mean()],\n",
        "    \"m_pres\": [datos[\"Presion_sistolica\"].mean()],\n",
        "    \"cv_imc\": [variation(datos[\"IMC\"]) * 100],\n",
        "    \"cv_pres\": [variation(datos[\"Presion_sistolica\"]) * 100]})"
      ],
      "metadata": {
        "id": "MWRQlCecLtVi"
      },
      "execution_count": null,
      "outputs": []
    },
    {
      "cell_type": "markdown",
      "source": [
        "El IMC presenta mayor variabilidad (cv = 10.61%) que la presión sistólica (cv = 10.23%)."
      ],
      "metadata": {
        "id": "H7AwPDXjMBvm"
      }
    },
    {
      "cell_type": "markdown",
      "source": [
        "### Ejemplo 19"
      ],
      "metadata": {
        "id": "bJZmOipwMGbp"
      }
    },
    {
      "cell_type": "markdown",
      "source": [
        "Los pacientes se dividen en 3 grupos: joven (menor de 30 años),adulto (de 30 a 59 años) y\n",
        "adulto mayor (de 60 a más años). ¿En qué grupo se observa mayor variabilidad en el tiempo\n",
        "semanal de ejercicios?"
      ],
      "metadata": {
        "id": "px3LCPS1MHrC"
      }
    },
    {
      "cell_type": "code",
      "source": [
        "datos = datos.assign(\n",
        "    Grupo_Edad = pd.cut(\n",
        "        datos[\"Edad\"],\n",
        "        bins=[-float(\"inf\"), 30, 60, float(\"inf\")],\n",
        "        labels=[\"Joven\", \"Adulto\", \"Adulto mayor\"],\n",
        "        right=False  # para que 30 esté incluido en \"Adulto\"\n",
        "))\n",
        "datos.head(5)"
      ],
      "metadata": {
        "id": "New7iNFQMBb7"
      },
      "execution_count": null,
      "outputs": []
    },
    {
      "cell_type": "code",
      "source": [
        "(datos\n",
        " .groupby(\"Grupo_Edad\", as_index=False)\n",
        " .agg(s=(\"Minutos_ejercicio\", \"std\"),\n",
        "      m=(\"Minutos_ejercicio\", \"mean\"),\n",
        "      cv=(\"Minutos_ejercicio\", lambda x: variation(x)*100))\n",
        ")"
      ],
      "metadata": {
        "id": "yiF0VoNjM8ix"
      },
      "execution_count": null,
      "outputs": []
    },
    {
      "cell_type": "markdown",
      "source": [
        "El grupo con mayor variabilidad en el tiempo semanal de ejercicios es el de adultos mayores."
      ],
      "metadata": {
        "id": "lOh26LPZND9h"
      }
    },
    {
      "cell_type": "markdown",
      "source": [
        "# Medidas de asimetría"
      ],
      "metadata": {
        "id": "gIXhYPjqNPXq"
      }
    },
    {
      "cell_type": "markdown",
      "source": [
        "## Coeficiente de asimetría de Fisher Pearson"
      ],
      "metadata": {
        "id": "g75ogK5FNRSz"
      }
    },
    {
      "cell_type": "markdown",
      "source": [
        "### Ejemplo 20"
      ],
      "metadata": {
        "id": "vXNFhm5eNTeH"
      }
    },
    {
      "cell_type": "markdown",
      "source": [
        "Interpretar el coeficiente de asimetría de Fisher Pearson para cada variable."
      ],
      "metadata": {
        "id": "tAPQ-OSrNUni"
      }
    },
    {
      "cell_type": "code",
      "source": [
        "datos.select_dtypes(include='number').apply(lambda x: skew(x, nan_policy='omit')).to_frame().T"
      ],
      "metadata": {
        "id": "xnqHho33NtPq"
      },
      "execution_count": null,
      "outputs": []
    },
    {
      "cell_type": "markdown",
      "source": [
        "Las cuatro variables presentan distribuciones que tienden a la simetría, siendo la edad la que\n",
        "más se acerca a la simetría y el IMC la que más se aleja."
      ],
      "metadata": {
        "id": "xMn1R8NaN1la"
      }
    },
    {
      "cell_type": "markdown",
      "source": [
        "## Coeficiente de asimetría de Bowley"
      ],
      "metadata": {
        "id": "qG_JFtASN2Ml"
      }
    },
    {
      "cell_type": "markdown",
      "source": [
        "### Ejemplo 21"
      ],
      "metadata": {
        "id": "WOqEbq5SN4mh"
      }
    },
    {
      "cell_type": "markdown",
      "source": [
        "Interpretar el coeficiente de asimetría de Bowley para cada variable."
      ],
      "metadata": {
        "id": "LB4ayRh7N5s8"
      }
    },
    {
      "cell_type": "code",
      "source": [
        "def bowley(x):\n",
        "    q1 = x.quantile(0.25)\n",
        "    q2 = x.quantile(0.50)\n",
        "    q3 = x.quantile(0.75)\n",
        "    return (q3 + q1 - 2 * q2) / (q3 - q1) if (q3 - q1) != 0 else None\n",
        "\n",
        "datos.select_dtypes(include='number').apply(bowley).to_frame().T"
      ],
      "metadata": {
        "id": "beRAJXBNPq2D"
      },
      "execution_count": null,
      "outputs": []
    },
    {
      "cell_type": "markdown",
      "source": [
        "Las cuatro variables presentan distribuciones que tienden a la simetría en el 50% central de los\n",
        "datos, siendo el IMC la que más se acerca a la simetría y la edad la que más se aleja. ¿Es una\n",
        "contradicción respecto a la interpretación con el coeficiente de asimetría de Fisher Pearson?"
      ],
      "metadata": {
        "id": "M7m0pNtbPvaJ"
      }
    },
    {
      "cell_type": "markdown",
      "source": [
        "# Tablas de frecuencia\n"
      ],
      "metadata": {
        "id": "98Cg48-pPzR7"
      }
    },
    {
      "cell_type": "markdown",
      "source": [
        "## Tablas de frecuencia para variables cualitativas"
      ],
      "metadata": {
        "id": "Mxwb_VSXP2VL"
      }
    },
    {
      "cell_type": "code",
      "source": [
        "tabla = (\n",
        "    datos['Sedentario']\n",
        "    .value_counts(dropna=False)\n",
        "    .sort_index()\n",
        "    .reset_index()\n",
        "    .rename(columns={'index': 'Categoría', 'count': 'Frecuencia'}))\n",
        "\n",
        "\n",
        "tabla['Frecuencia_relativa'] = tabla['Frecuencia'] / tabla['Frecuencia'].sum()\n",
        "\n",
        "tabla"
      ],
      "metadata": {
        "id": "t8o3pAutQwr-"
      },
      "execution_count": null,
      "outputs": []
    },
    {
      "cell_type": "markdown",
      "source": [
        "## Tablas de frecuencia para variables cuantitativas discretas\n",
        "\n",
        "\n"
      ],
      "metadata": {
        "id": "l0eT9Gw2STon"
      }
    },
    {
      "cell_type": "code",
      "source": [
        "tabla = (\n",
        "    datos.loc[datos['Edad'] > 60]['Edad']\n",
        "    .value_counts(dropna=False)\n",
        "    .sort_index()\n",
        "    .reset_index()\n",
        "    .rename(columns={'index': 'Valor', 'count': 'Frecuencia'})\n",
        ")\n",
        "\n",
        "tabla['Frecuencia_relativa'] = tabla['Frecuencia'] / tabla['Frecuencia'].sum()\n",
        "tabla['Frecuencia_acumulada'] = tabla['Frecuencia'].cumsum()\n",
        "tabla['Frecuencia_relativa_acumulada'] = tabla['Frecuencia_relativa'].cumsum()\n",
        "tabla"
      ],
      "metadata": {
        "id": "n0x6yidkSdxo"
      },
      "execution_count": null,
      "outputs": []
    },
    {
      "cell_type": "markdown",
      "source": [
        "## Tablas de frecuencia para variables cuantitativas continuas\n"
      ],
      "metadata": {
        "id": "eg8ExwK4S3Hx"
      }
    },
    {
      "cell_type": "code",
      "source": [
        "intervalos = pd.cut(datos['Edad'], bins=5)\n",
        "\n",
        "tabla = (\n",
        "    intervalos\n",
        "    .value_counts(sort=False)\n",
        "    .reset_index()\n",
        "    .rename(columns={'index': 'Intervalo', 'count': 'Frecuencia'})\n",
        ")\n",
        "\n",
        "tabla['Frecuencia_relativa'] = tabla['Frecuencia'] / tabla['Frecuencia'].sum()\n",
        "tabla['Frecuencia_acumulada'] = tabla['Frecuencia'].cumsum()\n",
        "tabla['Frecuencia_relativa_acumulada'] = tabla['Frecuencia_relativa'].cumsum()\n",
        "tabla"
      ],
      "metadata": {
        "id": "kMtSzo6ES9rO"
      },
      "execution_count": null,
      "outputs": []
    },
    {
      "cell_type": "markdown",
      "source": [
        "# Gráficas"
      ],
      "metadata": {
        "id": "TvKZ44LeTQMF"
      }
    },
    {
      "cell_type": "markdown",
      "source": [
        "## Gráficas para variables cualitativas"
      ],
      "metadata": {
        "id": "2DfsSGvWTVxZ"
      }
    },
    {
      "cell_type": "markdown",
      "source": [
        "### Gráfico de barras"
      ],
      "metadata": {
        "id": "2w7YmrNPTXjD"
      }
    },
    {
      "cell_type": "code",
      "source": [
        "conteo = datos['Sedentario'].value_counts().sort_index().reset_index()\n",
        "conteo.columns = ['Sedentario', 'n']\n",
        "\n",
        "fig, ax = plt.subplots(figsize=(6, 4))\n",
        "barras = ax.bar(conteo['Sedentario'], conteo['n'], color='steelblue')\n",
        "\n",
        "for i, row in conteo.iterrows():\n",
        "    ax.text(row['Sedentario'], row['n'] / 2, str(row['n']),\n",
        "            ha='center', va='center', color='white', fontweight='bold')\n",
        "\n",
        "ax.set_title(\"Distribución de pacientes según su actividad física\")\n",
        "ax.set_xlabel(\"Actividad física\")\n",
        "ax.set_ylabel(\"Cantidad de pacientes\")\n",
        "plt.tight_layout()\n",
        "plt.show()"
      ],
      "metadata": {
        "id": "qUiTHDz_TZU_"
      },
      "execution_count": null,
      "outputs": []
    },
    {
      "cell_type": "code",
      "source": [
        "fig, ax = plt.subplots(figsize=(6, 4))\n",
        "barras = ax.barh(conteo['Sedentario'], conteo['n'], color='forestgreen')\n",
        "\n",
        "for i, row in conteo.iterrows():\n",
        "    ax.text(row['n'] / 2, row['Sedentario'], str(row['n']),\n",
        "            va='center', ha='center', color='white', fontweight='bold')\n",
        "\n",
        "ax.set_title(\"Distribución de pacientes según su actividad física\")\n",
        "ax.set_xlabel(\"Cantidad de pacientes\")\n",
        "ax.set_ylabel(\"Actividad física\")\n",
        "plt.tight_layout()\n",
        "plt.show()"
      ],
      "metadata": {
        "id": "t3Xo69WoTmEY"
      },
      "execution_count": null,
      "outputs": []
    },
    {
      "cell_type": "markdown",
      "source": [
        "### Gráfico circular"
      ],
      "metadata": {
        "id": "9OqPdwJUURtV"
      }
    },
    {
      "cell_type": "code",
      "source": [
        "conteo = (\n",
        "    datos['Sedentario']\n",
        "    .value_counts()\n",
        "    .sort_index()\n",
        "    .reset_index()\n",
        "    .rename(columns={'index': 'Sedentario', 'Sedentario': 'n'})\n",
        ")\n",
        "\n",
        "conteo['porcentaje'] = round(conteo['count'] / conteo['count'].sum() * 100, 1)\n",
        "conteo['etiqueta'] = conteo['n'] + \": \" + conteo['porcentaje'].astype(str) + \"%\"\n",
        "conteo"
      ],
      "metadata": {
        "id": "N9ml_qrcT8f2"
      },
      "execution_count": null,
      "outputs": []
    },
    {
      "cell_type": "code",
      "source": [
        "fig, ax = plt.subplots(figsize=(6, 6))\n",
        "ax.pie(\n",
        "    conteo['count'],\n",
        "    labels=conteo['etiqueta'],\n",
        "    colors=plt.cm.Set2.colors,  # paleta suave\n",
        "    startangle=90,\n",
        "    wedgeprops=dict(width=0.7)  # anillo delgado como `coord_polar`\n",
        ")\n",
        "\n",
        "ax.set_title(\"Distribución de pacientes según su actividad física\")\n",
        "plt.tight_layout()\n",
        "plt.show()"
      ],
      "metadata": {
        "id": "xnh8MO85UIzi"
      },
      "execution_count": null,
      "outputs": []
    },
    {
      "cell_type": "markdown",
      "source": [
        "### Gráfico de waffle"
      ],
      "metadata": {
        "id": "Oe73JOjGVHQV"
      }
    },
    {
      "cell_type": "code",
      "source": [
        "conteo = (\n",
        "    datos['Sedentario']\n",
        "    .value_counts()\n",
        "    .sort_index()\n",
        "    .reset_index()\n",
        "    .rename(columns={'index': 'Sedentario', 'Sedentario': 'n'})\n",
        ")\n",
        "conteo['count'] = round(conteo['count'] / conteo['count'].sum() * 100)\n",
        "datos_dict = dict(zip(conteo['n'], conteo['count']))\n",
        "fig = plt.figure(\n",
        "    FigureClass=Waffle,\n",
        "    rows=5,\n",
        "    values=datos_dict,\n",
        "    title={'label': 'Distribución de pacientes', 'loc': 'center'},\n",
        "    colors=[\"#4CAF50\", \"#FFC107\"],\n",
        "    legend={'loc': 'upper left', 'bbox_to_anchor': (1, 1)},\n",
        "    icons='user', icon_size=20, icon_legend=True\n",
        ")\n",
        "\n",
        "plt.show()"
      ],
      "metadata": {
        "id": "Xed2diJQUl1M"
      },
      "execution_count": null,
      "outputs": []
    },
    {
      "cell_type": "markdown",
      "source": [
        "### Gráfico treemap"
      ],
      "metadata": {
        "id": "kL8IwoTXTyQZ"
      }
    },
    {
      "cell_type": "code",
      "source": [
        "conteo = (\n",
        "    datos['Sedentario']\n",
        "    .value_counts()\n",
        "    .sort_index()\n",
        "    .reset_index()\n",
        "    .rename(columns={'index': 'Sedentario', 'Sedentario': 'n'})\n",
        ")\n",
        "\n",
        "sizes = conteo['count']\n",
        "labels = conteo['n'] + \"\\n\" + conteo['count'].astype(str)\n",
        "colors = plt.cm.Set2(range(len(sizes)))  # paleta de colores\n",
        "\n",
        "plt.figure(figsize=(6, 4))\n",
        "squarify.plot(\n",
        "    sizes=sizes,\n",
        "    label=labels,\n",
        "    color=colors,\n",
        "    text_kwargs={'fontsize':12, 'color':'white'},\n",
        "    pad=True\n",
        ")"
      ],
      "metadata": {
        "id": "8Zn0kAlkVRfR"
      },
      "execution_count": null,
      "outputs": []
    },
    {
      "cell_type": "markdown",
      "source": [
        "## Gráficas para variables cuantitativas"
      ],
      "metadata": {
        "id": "O0KxMTR9Vt7z"
      }
    },
    {
      "cell_type": "markdown",
      "source": [
        "### Gráfica de varas (barras)"
      ],
      "metadata": {
        "id": "e27iMDNTWIxT"
      }
    },
    {
      "cell_type": "code",
      "source": [
        "conteo = (\n",
        "    datos.loc[datos['Edad'] > 60, 'Edad']\n",
        "    .value_counts()\n",
        "    .sort_index()\n",
        "    .reset_index()\n",
        "    .rename(columns={'index': 'Edad', 'Edad': 'n'}))\n",
        "\n",
        "fig, ax = plt.subplots(figsize=(8, 4))\n",
        "\n",
        "ax.bar(\n",
        "    conteo['n'].astype(str),  # convertir a texto para eje x discreto\n",
        "    conteo['count'],\n",
        "    color='darkgreen',\n",
        "    width=0.05)\n",
        "\n",
        "for i, row in conteo.iterrows():\n",
        "    ax.text(x=row['n'], y=row['count'] + 0.1, s=str(row['n']),\n",
        "            ha='center', va='bottom', fontsize=9)\n",
        "\n",
        "ax.set_ylim(0, 4.5)\n",
        "ax.set_title(\"Distribución de las edades de los pacientes adultos mayores\")\n",
        "ax.set_xlabel(\"Valor\")\n",
        "ax.set_ylabel(\"Frecuencia\")\n",
        "plt.tight_layout()\n",
        "plt.show()"
      ],
      "metadata": {
        "id": "HTa4_BIoV6VH"
      },
      "execution_count": null,
      "outputs": []
    },
    {
      "cell_type": "markdown",
      "source": [
        "### Histograma"
      ],
      "metadata": {
        "id": "6jGoMjUGWMi4"
      }
    },
    {
      "cell_type": "code",
      "source": [
        "plt.figure(figsize=(8, 4))\n",
        "plt.hist(datos['Edad'],\n",
        "         bins=range(int(datos['Edad'].min()), int(datos['Edad'].max()) + 5, 5),\n",
        "         color='mediumorchid', edgecolor='white')\n",
        "plt.title(\"Distribución de la edad\")\n",
        "plt.xlabel(\"Edad\")\n",
        "plt.ylabel(\"Frecuencia\")\n",
        "plt.tight_layout()\n",
        "plt.show()"
      ],
      "metadata": {
        "id": "N5KMRfPGWQdX"
      },
      "execution_count": null,
      "outputs": []
    },
    {
      "cell_type": "code",
      "source": [
        "plt.figure(figsize=(8, 4))\n",
        "sns.histplot(data=datos, x='Edad',\n",
        "             binwidth=5, color='mediumorchid', edgecolor='white')\n",
        "plt.title(\"Distribución de la edad\")\n",
        "plt.xlabel(\"Edad\")\n",
        "plt.ylabel(\"Frecuencia\")\n",
        "plt.tight_layout()\n",
        "plt.show()"
      ],
      "metadata": {
        "id": "zH-R6rpGWbFD"
      },
      "execution_count": null,
      "outputs": []
    },
    {
      "cell_type": "markdown",
      "source": [
        "### Gráfico de densidad"
      ],
      "metadata": {
        "id": "BkVrL1a3qZz-"
      }
    },
    {
      "cell_type": "code",
      "source": [
        "plt.figure(figsize=(8, 4))\n",
        "sns.kdeplot(data=datos, x='Edad', fill=True, color='chocolate', alpha=0.4)\n",
        "plt.title(\"Curva de densidad de la edad\")\n",
        "plt.xlabel(\"Edad\")\n",
        "plt.ylabel(\"Densidad\")\n",
        "plt.tight_layout()\n",
        "plt.show()"
      ],
      "metadata": {
        "id": "EJB8RaQQqZBv"
      },
      "execution_count": null,
      "outputs": []
    },
    {
      "cell_type": "markdown",
      "source": [
        "### Boxplot"
      ],
      "metadata": {
        "id": "aRK2pueXqkFw"
      }
    },
    {
      "cell_type": "code",
      "source": [
        "plt.figure(figsize=(4, 4))\n",
        "sns.boxplot(y='Edad', data=datos, color='lightblue', width=0.2)\n",
        "plt.title(\"Distribución de la edad\")\n",
        "plt.ylabel(\"Edad\")\n",
        "plt.xlabel(\"\")\n",
        "plt.tight_layout()\n",
        "plt.show()"
      ],
      "metadata": {
        "id": "gkwdS7TDqk3X"
      },
      "execution_count": null,
      "outputs": []
    },
    {
      "cell_type": "code",
      "source": [
        "plt.figure(figsize=(4,6))\n",
        "sns.boxplot(x='Sedentario', y='Edad', data=datos, color='lightblue')\n",
        "plt.title(\"Distribución de la edad según actividad física\")\n",
        "plt.xlabel(\"Actividad física\")\n",
        "plt.ylabel(\"Edad\")\n",
        "plt.tight_layout()\n",
        "plt.show()"
      ],
      "metadata": {
        "id": "ezR4KmrYqxpM"
      },
      "execution_count": null,
      "outputs": []
    },
    {
      "cell_type": "markdown",
      "source": [
        "### Gráfica de violín"
      ],
      "metadata": {
        "id": "DQUaXFD6q0D4"
      }
    },
    {
      "cell_type": "code",
      "source": [
        "plt.figure(figsize=(4, 6))\n",
        "sns.violinplot(y='Edad', data=datos, color='skyblue')\n",
        "plt.title(\"Distribución de la edad\")\n",
        "plt.ylabel(\"Edad\")\n",
        "plt.xlabel(\"\")\n",
        "plt.tight_layout()\n",
        "plt.show()"
      ],
      "metadata": {
        "id": "s9baj_vqq-aN"
      },
      "execution_count": null,
      "outputs": []
    },
    {
      "cell_type": "code",
      "source": [
        "plt.figure(figsize=(6, 6))\n",
        "sns.violinplot(x = 'Sedentario', y='Edad', data=datos, color='skyblue')\n",
        "plt.title(\"Distribución de la edad según actividad física\")\n",
        "plt.ylabel(\"Edad\")\n",
        "plt.xlabel(\"Actividad física\")\n",
        "plt.tight_layout()\n",
        "plt.show()"
      ],
      "metadata": {
        "id": "7iZzhzs6rINU"
      },
      "execution_count": null,
      "outputs": []
    },
    {
      "cell_type": "markdown",
      "source": [
        "# Resúmenes"
      ],
      "metadata": {
        "id": "crqSRmawq-DU"
      }
    },
    {
      "cell_type": "code",
      "source": [
        "datos.describe(include='all').transpose()"
      ],
      "metadata": {
        "id": "BFvnE_xQrvFF"
      },
      "execution_count": null,
      "outputs": []
    },
    {
      "cell_type": "code",
      "source": [
        "skim(datos)"
      ],
      "metadata": {
        "id": "uKVwSfyvsUll"
      },
      "execution_count": null,
      "outputs": []
    },
    {
      "cell_type": "code",
      "source": [
        "ProfileReport(datos, title=\"Resumen del DataFrame\", explorative=True)"
      ],
      "metadata": {
        "id": "epNhzc3Jrqjz"
      },
      "execution_count": null,
      "outputs": []
    }
  ]
}