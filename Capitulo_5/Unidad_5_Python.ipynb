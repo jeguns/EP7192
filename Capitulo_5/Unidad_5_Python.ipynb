{
  "nbformat": 4,
  "nbformat_minor": 0,
  "metadata": {
    "colab": {
      "provenance": [],
      "authorship_tag": "ABX9TyNKXwJnL16Spgi7LSpcy6ap",
      "include_colab_link": true
    },
    "kernelspec": {
      "name": "python3",
      "display_name": "Python 3"
    },
    "language_info": {
      "name": "python"
    }
  },
  "cells": [
    {
      "cell_type": "markdown",
      "metadata": {
        "id": "view-in-github",
        "colab_type": "text"
      },
      "source": [
        "<a href=\"https://colab.research.google.com/github/jeguns/EP7192/blob/main/Capitulo_5/Unidad_5_Python.ipynb\" target=\"_parent\"><img src=\"https://colab.research.google.com/assets/colab-badge.svg\" alt=\"Open In Colab\"/></a>"
      ]
    },
    {
      "cell_type": "markdown",
      "source": [
        "# Descripción del caso"
      ],
      "metadata": {
        "id": "0t6izU1gg1Et"
      }
    },
    {
      "cell_type": "markdown",
      "source": [
        "Una universidad desea evaluar el servicio de su biblioteca en términos de tiempos de espera, uso del servicio y nivel de satisfacción de los estudiantes. Para ello, se encuestó a 70 estudiantes al finalizar el semestre. Se recolectaron las siguientes variables\n",
        "\n",
        "- Tiempo\\_Espera (en minutos): tiempo que un estudiante espero para ser atendido.\n",
        "\n",
        "- Libros\\_Prestados: número de libros en préstamo por parte del estudiante en el ciclo.\n",
        "\n",
        "- Satisfecho: respuesta a si están satisfechos con el servicio."
      ],
      "metadata": {
        "id": "S4ZQ2IfegyB9"
      }
    },
    {
      "cell_type": "markdown",
      "source": [
        "# Lectura de datos"
      ],
      "metadata": {
        "id": "zVXOfyIAhJZp"
      }
    },
    {
      "cell_type": "code",
      "execution_count": null,
      "metadata": {
        "colab": {
          "base_uri": "https://localhost:8080/",
          "height": 363
        },
        "id": "hW77uDoigtS6",
        "outputId": "40d52bc5-d43e-465c-adbf-356520a921dc"
      },
      "outputs": [
        {
          "output_type": "execute_result",
          "data": {
            "text/plain": [
              "   ID  Tiempo_Espera  Libros_Prestados Satisfecho\n",
              "0   1            8.4                 3         Sí\n",
              "1   2            9.0                 2         No\n",
              "2   3            5.8                 5         Sí\n",
              "3   4            8.4                 1         Sí\n",
              "4   5            8.1                 2         Sí\n",
              "5   6            5.1                 3         No\n",
              "6   7            8.9                 5         Sí\n",
              "7   8            9.4                 1         Sí\n",
              "8   9           10.7                 4         Sí\n",
              "9  10           10.6                 3         No"
            ],
            "text/html": [
              "\n",
              "  <div id=\"df-166684dc-065e-4591-8099-40733151aae9\" class=\"colab-df-container\">\n",
              "    <div>\n",
              "<style scoped>\n",
              "    .dataframe tbody tr th:only-of-type {\n",
              "        vertical-align: middle;\n",
              "    }\n",
              "\n",
              "    .dataframe tbody tr th {\n",
              "        vertical-align: top;\n",
              "    }\n",
              "\n",
              "    .dataframe thead th {\n",
              "        text-align: right;\n",
              "    }\n",
              "</style>\n",
              "<table border=\"1\" class=\"dataframe\">\n",
              "  <thead>\n",
              "    <tr style=\"text-align: right;\">\n",
              "      <th></th>\n",
              "      <th>ID</th>\n",
              "      <th>Tiempo_Espera</th>\n",
              "      <th>Libros_Prestados</th>\n",
              "      <th>Satisfecho</th>\n",
              "    </tr>\n",
              "  </thead>\n",
              "  <tbody>\n",
              "    <tr>\n",
              "      <th>0</th>\n",
              "      <td>1</td>\n",
              "      <td>8.4</td>\n",
              "      <td>3</td>\n",
              "      <td>Sí</td>\n",
              "    </tr>\n",
              "    <tr>\n",
              "      <th>1</th>\n",
              "      <td>2</td>\n",
              "      <td>9.0</td>\n",
              "      <td>2</td>\n",
              "      <td>No</td>\n",
              "    </tr>\n",
              "    <tr>\n",
              "      <th>2</th>\n",
              "      <td>3</td>\n",
              "      <td>5.8</td>\n",
              "      <td>5</td>\n",
              "      <td>Sí</td>\n",
              "    </tr>\n",
              "    <tr>\n",
              "      <th>3</th>\n",
              "      <td>4</td>\n",
              "      <td>8.4</td>\n",
              "      <td>1</td>\n",
              "      <td>Sí</td>\n",
              "    </tr>\n",
              "    <tr>\n",
              "      <th>4</th>\n",
              "      <td>5</td>\n",
              "      <td>8.1</td>\n",
              "      <td>2</td>\n",
              "      <td>Sí</td>\n",
              "    </tr>\n",
              "    <tr>\n",
              "      <th>5</th>\n",
              "      <td>6</td>\n",
              "      <td>5.1</td>\n",
              "      <td>3</td>\n",
              "      <td>No</td>\n",
              "    </tr>\n",
              "    <tr>\n",
              "      <th>6</th>\n",
              "      <td>7</td>\n",
              "      <td>8.9</td>\n",
              "      <td>5</td>\n",
              "      <td>Sí</td>\n",
              "    </tr>\n",
              "    <tr>\n",
              "      <th>7</th>\n",
              "      <td>8</td>\n",
              "      <td>9.4</td>\n",
              "      <td>1</td>\n",
              "      <td>Sí</td>\n",
              "    </tr>\n",
              "    <tr>\n",
              "      <th>8</th>\n",
              "      <td>9</td>\n",
              "      <td>10.7</td>\n",
              "      <td>4</td>\n",
              "      <td>Sí</td>\n",
              "    </tr>\n",
              "    <tr>\n",
              "      <th>9</th>\n",
              "      <td>10</td>\n",
              "      <td>10.6</td>\n",
              "      <td>3</td>\n",
              "      <td>No</td>\n",
              "    </tr>\n",
              "  </tbody>\n",
              "</table>\n",
              "</div>\n",
              "    <div class=\"colab-df-buttons\">\n",
              "\n",
              "  <div class=\"colab-df-container\">\n",
              "    <button class=\"colab-df-convert\" onclick=\"convertToInteractive('df-166684dc-065e-4591-8099-40733151aae9')\"\n",
              "            title=\"Convert this dataframe to an interactive table.\"\n",
              "            style=\"display:none;\">\n",
              "\n",
              "  <svg xmlns=\"http://www.w3.org/2000/svg\" height=\"24px\" viewBox=\"0 -960 960 960\">\n",
              "    <path d=\"M120-120v-720h720v720H120Zm60-500h600v-160H180v160Zm220 220h160v-160H400v160Zm0 220h160v-160H400v160ZM180-400h160v-160H180v160Zm440 0h160v-160H620v160ZM180-180h160v-160H180v160Zm440 0h160v-160H620v160Z\"/>\n",
              "  </svg>\n",
              "    </button>\n",
              "\n",
              "  <style>\n",
              "    .colab-df-container {\n",
              "      display:flex;\n",
              "      gap: 12px;\n",
              "    }\n",
              "\n",
              "    .colab-df-convert {\n",
              "      background-color: #E8F0FE;\n",
              "      border: none;\n",
              "      border-radius: 50%;\n",
              "      cursor: pointer;\n",
              "      display: none;\n",
              "      fill: #1967D2;\n",
              "      height: 32px;\n",
              "      padding: 0 0 0 0;\n",
              "      width: 32px;\n",
              "    }\n",
              "\n",
              "    .colab-df-convert:hover {\n",
              "      background-color: #E2EBFA;\n",
              "      box-shadow: 0px 1px 2px rgba(60, 64, 67, 0.3), 0px 1px 3px 1px rgba(60, 64, 67, 0.15);\n",
              "      fill: #174EA6;\n",
              "    }\n",
              "\n",
              "    .colab-df-buttons div {\n",
              "      margin-bottom: 4px;\n",
              "    }\n",
              "\n",
              "    [theme=dark] .colab-df-convert {\n",
              "      background-color: #3B4455;\n",
              "      fill: #D2E3FC;\n",
              "    }\n",
              "\n",
              "    [theme=dark] .colab-df-convert:hover {\n",
              "      background-color: #434B5C;\n",
              "      box-shadow: 0px 1px 3px 1px rgba(0, 0, 0, 0.15);\n",
              "      filter: drop-shadow(0px 1px 2px rgba(0, 0, 0, 0.3));\n",
              "      fill: #FFFFFF;\n",
              "    }\n",
              "  </style>\n",
              "\n",
              "    <script>\n",
              "      const buttonEl =\n",
              "        document.querySelector('#df-166684dc-065e-4591-8099-40733151aae9 button.colab-df-convert');\n",
              "      buttonEl.style.display =\n",
              "        google.colab.kernel.accessAllowed ? 'block' : 'none';\n",
              "\n",
              "      async function convertToInteractive(key) {\n",
              "        const element = document.querySelector('#df-166684dc-065e-4591-8099-40733151aae9');\n",
              "        const dataTable =\n",
              "          await google.colab.kernel.invokeFunction('convertToInteractive',\n",
              "                                                    [key], {});\n",
              "        if (!dataTable) return;\n",
              "\n",
              "        const docLinkHtml = 'Like what you see? Visit the ' +\n",
              "          '<a target=\"_blank\" href=https://colab.research.google.com/notebooks/data_table.ipynb>data table notebook</a>'\n",
              "          + ' to learn more about interactive tables.';\n",
              "        element.innerHTML = '';\n",
              "        dataTable['output_type'] = 'display_data';\n",
              "        await google.colab.output.renderOutput(dataTable, element);\n",
              "        const docLink = document.createElement('div');\n",
              "        docLink.innerHTML = docLinkHtml;\n",
              "        element.appendChild(docLink);\n",
              "      }\n",
              "    </script>\n",
              "  </div>\n",
              "\n",
              "\n",
              "    <div id=\"df-d5326adf-999f-4f49-b664-285286050d4b\">\n",
              "      <button class=\"colab-df-quickchart\" onclick=\"quickchart('df-d5326adf-999f-4f49-b664-285286050d4b')\"\n",
              "                title=\"Suggest charts\"\n",
              "                style=\"display:none;\">\n",
              "\n",
              "<svg xmlns=\"http://www.w3.org/2000/svg\" height=\"24px\"viewBox=\"0 0 24 24\"\n",
              "     width=\"24px\">\n",
              "    <g>\n",
              "        <path d=\"M19 3H5c-1.1 0-2 .9-2 2v14c0 1.1.9 2 2 2h14c1.1 0 2-.9 2-2V5c0-1.1-.9-2-2-2zM9 17H7v-7h2v7zm4 0h-2V7h2v10zm4 0h-2v-4h2v4z\"/>\n",
              "    </g>\n",
              "</svg>\n",
              "      </button>\n",
              "\n",
              "<style>\n",
              "  .colab-df-quickchart {\n",
              "      --bg-color: #E8F0FE;\n",
              "      --fill-color: #1967D2;\n",
              "      --hover-bg-color: #E2EBFA;\n",
              "      --hover-fill-color: #174EA6;\n",
              "      --disabled-fill-color: #AAA;\n",
              "      --disabled-bg-color: #DDD;\n",
              "  }\n",
              "\n",
              "  [theme=dark] .colab-df-quickchart {\n",
              "      --bg-color: #3B4455;\n",
              "      --fill-color: #D2E3FC;\n",
              "      --hover-bg-color: #434B5C;\n",
              "      --hover-fill-color: #FFFFFF;\n",
              "      --disabled-bg-color: #3B4455;\n",
              "      --disabled-fill-color: #666;\n",
              "  }\n",
              "\n",
              "  .colab-df-quickchart {\n",
              "    background-color: var(--bg-color);\n",
              "    border: none;\n",
              "    border-radius: 50%;\n",
              "    cursor: pointer;\n",
              "    display: none;\n",
              "    fill: var(--fill-color);\n",
              "    height: 32px;\n",
              "    padding: 0;\n",
              "    width: 32px;\n",
              "  }\n",
              "\n",
              "  .colab-df-quickchart:hover {\n",
              "    background-color: var(--hover-bg-color);\n",
              "    box-shadow: 0 1px 2px rgba(60, 64, 67, 0.3), 0 1px 3px 1px rgba(60, 64, 67, 0.15);\n",
              "    fill: var(--button-hover-fill-color);\n",
              "  }\n",
              "\n",
              "  .colab-df-quickchart-complete:disabled,\n",
              "  .colab-df-quickchart-complete:disabled:hover {\n",
              "    background-color: var(--disabled-bg-color);\n",
              "    fill: var(--disabled-fill-color);\n",
              "    box-shadow: none;\n",
              "  }\n",
              "\n",
              "  .colab-df-spinner {\n",
              "    border: 2px solid var(--fill-color);\n",
              "    border-color: transparent;\n",
              "    border-bottom-color: var(--fill-color);\n",
              "    animation:\n",
              "      spin 1s steps(1) infinite;\n",
              "  }\n",
              "\n",
              "  @keyframes spin {\n",
              "    0% {\n",
              "      border-color: transparent;\n",
              "      border-bottom-color: var(--fill-color);\n",
              "      border-left-color: var(--fill-color);\n",
              "    }\n",
              "    20% {\n",
              "      border-color: transparent;\n",
              "      border-left-color: var(--fill-color);\n",
              "      border-top-color: var(--fill-color);\n",
              "    }\n",
              "    30% {\n",
              "      border-color: transparent;\n",
              "      border-left-color: var(--fill-color);\n",
              "      border-top-color: var(--fill-color);\n",
              "      border-right-color: var(--fill-color);\n",
              "    }\n",
              "    40% {\n",
              "      border-color: transparent;\n",
              "      border-right-color: var(--fill-color);\n",
              "      border-top-color: var(--fill-color);\n",
              "    }\n",
              "    60% {\n",
              "      border-color: transparent;\n",
              "      border-right-color: var(--fill-color);\n",
              "    }\n",
              "    80% {\n",
              "      border-color: transparent;\n",
              "      border-right-color: var(--fill-color);\n",
              "      border-bottom-color: var(--fill-color);\n",
              "    }\n",
              "    90% {\n",
              "      border-color: transparent;\n",
              "      border-bottom-color: var(--fill-color);\n",
              "    }\n",
              "  }\n",
              "</style>\n",
              "\n",
              "      <script>\n",
              "        async function quickchart(key) {\n",
              "          const quickchartButtonEl =\n",
              "            document.querySelector('#' + key + ' button');\n",
              "          quickchartButtonEl.disabled = true;  // To prevent multiple clicks.\n",
              "          quickchartButtonEl.classList.add('colab-df-spinner');\n",
              "          try {\n",
              "            const charts = await google.colab.kernel.invokeFunction(\n",
              "                'suggestCharts', [key], {});\n",
              "          } catch (error) {\n",
              "            console.error('Error during call to suggestCharts:', error);\n",
              "          }\n",
              "          quickchartButtonEl.classList.remove('colab-df-spinner');\n",
              "          quickchartButtonEl.classList.add('colab-df-quickchart-complete');\n",
              "        }\n",
              "        (() => {\n",
              "          let quickchartButtonEl =\n",
              "            document.querySelector('#df-d5326adf-999f-4f49-b664-285286050d4b button');\n",
              "          quickchartButtonEl.style.display =\n",
              "            google.colab.kernel.accessAllowed ? 'block' : 'none';\n",
              "        })();\n",
              "      </script>\n",
              "    </div>\n",
              "\n",
              "    </div>\n",
              "  </div>\n"
            ],
            "application/vnd.google.colaboratory.intrinsic+json": {
              "type": "dataframe",
              "variable_name": "datos",
              "summary": "{\n  \"name\": \"datos\",\n  \"rows\": 70,\n  \"fields\": [\n    {\n      \"column\": \"ID\",\n      \"properties\": {\n        \"dtype\": \"number\",\n        \"std\": 20,\n        \"min\": 1,\n        \"max\": 70,\n        \"num_unique_values\": 70,\n        \"samples\": [\n          23,\n          1,\n          50\n        ],\n        \"semantic_type\": \"\",\n        \"description\": \"\"\n      }\n    },\n    {\n      \"column\": \"Tiempo_Espera\",\n      \"properties\": {\n        \"dtype\": \"number\",\n        \"std\": 2.7371037722456566,\n        \"min\": 2.0,\n        \"max\": 17.6,\n        \"num_unique_values\": 48,\n        \"samples\": [\n          6.2,\n          10.3,\n          5.3\n        ],\n        \"semantic_type\": \"\",\n        \"description\": \"\"\n      }\n    },\n    {\n      \"column\": \"Libros_Prestados\",\n      \"properties\": {\n        \"dtype\": \"number\",\n        \"std\": 1,\n        \"min\": 1,\n        \"max\": 6,\n        \"num_unique_values\": 6,\n        \"samples\": [\n          3,\n          2,\n          6\n        ],\n        \"semantic_type\": \"\",\n        \"description\": \"\"\n      }\n    },\n    {\n      \"column\": \"Satisfecho\",\n      \"properties\": {\n        \"dtype\": \"category\",\n        \"num_unique_values\": 2,\n        \"samples\": [\n          \"No\",\n          \"S\\u00ed\"\n        ],\n        \"semantic_type\": \"\",\n        \"description\": \"\"\n      }\n    }\n  ]\n}"
            }
          },
          "metadata": {},
          "execution_count": 30
        }
      ],
      "source": [
        "import pandas as pd\n",
        "datos = pd.read_csv('datos_u5.csv')\n",
        "datos.head(10)"
      ]
    },
    {
      "cell_type": "markdown",
      "source": [
        "# Intervalo de confianza para la media"
      ],
      "metadata": {
        "id": "ZFMYCrkhi01w"
      }
    },
    {
      "cell_type": "markdown",
      "source": [
        "Existe una confianza del 90% de que el verdadero tiempo medio de espera se encuentre entre los 7.61 y 8.70 minutos.\n"
      ],
      "metadata": {
        "id": "HCt0KIrLir9g"
      }
    },
    {
      "cell_type": "code",
      "source": [
        "tiempos  = datos[\"Tiempo_Espera\"]\n",
        "n        = len(tiempos)\n",
        "media    = tiempos.mean()\n",
        "desv_est = tiempos.std(ddof=1)\n",
        "sem      = desv_est / n**0.5\n",
        "from scipy import stats\n",
        "stats.t.interval(confidence=0.90, df=n-1, loc=media, scale=sem)"
      ],
      "metadata": {
        "colab": {
          "base_uri": "https://localhost:8080/"
        },
        "id": "4YNWYXnphdY8",
        "outputId": "ec5d83df-fa01-4cbf-dfb5-907ac3d4638d"
      },
      "execution_count": null,
      "outputs": [
        {
          "output_type": "execute_result",
          "data": {
            "text/plain": [
              "(np.float64(7.613140216840385), np.float64(8.70400264030247))"
            ]
          },
          "metadata": {},
          "execution_count": 24
        }
      ]
    },
    {
      "cell_type": "code",
      "source": [
        "from statsmodels.stats.api import DescrStatsW\n",
        "DescrStatsW(datos[\"Tiempo_Espera\"]).tconfint_mean(alpha=0.10)"
      ],
      "metadata": {
        "colab": {
          "base_uri": "https://localhost:8080/"
        },
        "id": "lVgi1kSKiHLT",
        "outputId": "5d28fe3b-e2f3-4844-f0bf-f6f29d967060"
      },
      "execution_count": null,
      "outputs": [
        {
          "output_type": "execute_result",
          "data": {
            "text/plain": [
              "(np.float64(7.613140216840384), np.float64(8.70400264030247))"
            ]
          },
          "metadata": {},
          "execution_count": 25
        }
      ]
    },
    {
      "cell_type": "markdown",
      "source": [
        "Con un 99% de confianza, se puede afirmar que la cantidad media poblacional de libros prestados en el ciclo se encuentra entre 2.84 y 3.54 libros.\n"
      ],
      "metadata": {
        "id": "im3pOd5qisxi"
      }
    },
    {
      "cell_type": "code",
      "source": [
        "DescrStatsW(datos[\"Libros_Prestados\"]).tconfint_mean(alpha=0.01)"
      ],
      "metadata": {
        "colab": {
          "base_uri": "https://localhost:8080/"
        },
        "id": "Mxc_fODHicRW",
        "outputId": "12ecb273-6653-4e3c-a3bf-1c75033b7a75"
      },
      "execution_count": null,
      "outputs": [
        {
          "output_type": "execute_result",
          "data": {
            "text/plain": [
              "(np.float64(2.8351617639157003), np.float64(3.5362668075128707))"
            ]
          },
          "metadata": {},
          "execution_count": 26
        }
      ]
    },
    {
      "cell_type": "markdown",
      "source": [
        "# Intervalo de confianza para la varianza"
      ],
      "metadata": {
        "id": "16b1_nt0i34m"
      }
    },
    {
      "cell_type": "markdown",
      "source": [
        "Se tiene un 95% de confianza de que la varianza poblacional de los tiempos de espera se encuentre entre los 5.51 y 10.79 minutos$^2$.\n"
      ],
      "metadata": {
        "id": "Tuwh4_q-j1G3"
      }
    },
    {
      "cell_type": "code",
      "source": [
        "from scipy.stats import chi2\n",
        "import numpy as np\n",
        "\n",
        "tiempos  = datos[\"Tiempo_Espera\"]\n",
        "n        = len(tiempos)\n",
        "s2       = np.var(tiempos, ddof=1)\n",
        "conf     = 0.95\n",
        "alpha    = 1 - conf\n",
        "chi2_inf = chi2.ppf(alpha / 2, df=n - 1)\n",
        "chi2_sup = chi2.ppf(1 - alpha / 2, df=n - 1)\n",
        "ic_var_tiempos = ((n - 1) * s2 / chi2_sup, (n - 1) * s2 / chi2_inf)\n",
        "ic_var_tiempos"
      ],
      "metadata": {
        "colab": {
          "base_uri": "https://localhost:8080/"
        },
        "id": "O-a1m2MwjoYp",
        "outputId": "88b484d4-e358-424f-9a1c-291d11b55286"
      },
      "execution_count": null,
      "outputs": [
        {
          "output_type": "execute_result",
          "data": {
            "text/plain": [
              "(np.float64(5.5076634601812176), np.float64(10.78641396831499))"
            ]
          },
          "metadata": {},
          "execution_count": 33
        }
      ]
    },
    {
      "cell_type": "markdown",
      "source": [
        "Existe una confianza del 90% de que la verdadera varianza de la cantidad de libros prestados esté contenida en el intervalo de 0.95 a 1.66 libros $^2$\n"
      ],
      "metadata": {
        "id": "BG3wC5t7j3Rd"
      }
    },
    {
      "cell_type": "code",
      "source": [
        "from scipy.stats import chi2\n",
        "import numpy as np\n",
        "\n",
        "libros   = datos[\"Libros_Prestados\"]\n",
        "n        = len(libros)\n",
        "s2       = np.var(libros, ddof=1)\n",
        "conf     = 0.90\n",
        "alpha    = 1 - conf\n",
        "chi2_inf = chi2.ppf(alpha / 2, df=n - 1)\n",
        "chi2_sup = chi2.ppf(1 - alpha / 2, df=n - 1)\n",
        "ic_var_libros = ((n - 1) * s2 / chi2_sup, (n - 1) * s2 / chi2_inf)\n",
        "ic_var_libros"
      ],
      "metadata": {
        "colab": {
          "base_uri": "https://localhost:8080/"
        },
        "id": "vY2HeyT3j4dc",
        "outputId": "d271b07f-4229-4163-c6aa-e2b532abdfee"
      },
      "execution_count": null,
      "outputs": [
        {
          "output_type": "execute_result",
          "data": {
            "text/plain": [
              "(np.float64(0.9462419884330521), np.float64(1.6624797951925137))"
            ]
          },
          "metadata": {},
          "execution_count": 34
        }
      ]
    },
    {
      "cell_type": "markdown",
      "source": [
        "# Intervalo de confianza para la desviación estándar"
      ],
      "metadata": {
        "id": "zrJjq4jIj-CX"
      }
    },
    {
      "cell_type": "markdown",
      "source": [
        "Se tiene un 95% de confianza de que la desviación estándar poblacional de los tiempos de espera se encuentre entre los 2.35 y 3.28 minutos.\n"
      ],
      "metadata": {
        "id": "VKRC5vZekSQs"
      }
    },
    {
      "cell_type": "code",
      "source": [
        "(ic_var_tiempos[0]**0.5, ic_var_tiempos[1]**0.5)"
      ],
      "metadata": {
        "colab": {
          "base_uri": "https://localhost:8080/"
        },
        "id": "heOs4mGEkJ_E",
        "outputId": "dced1ae3-8aa9-47b3-a687-28c82171376a"
      },
      "execution_count": null,
      "outputs": [
        {
          "output_type": "execute_result",
          "data": {
            "text/plain": [
              "(np.float64(2.3468411663726236), np.float64(3.284267645657855))"
            ]
          },
          "metadata": {},
          "execution_count": 36
        }
      ]
    },
    {
      "cell_type": "markdown",
      "source": [
        "Existe una confianza del 90% de que la verdadera desviación estándar de la cantidad de libros prestados esté contenida en el intervalo de 0.97 a 1.29 libros.\n"
      ],
      "metadata": {
        "id": "RMs1NnJ1kTxY"
      }
    },
    {
      "cell_type": "code",
      "source": [
        "(ic_var_libros[0]**0.5, ic_var_libros[1]**0.5)"
      ],
      "metadata": {
        "colab": {
          "base_uri": "https://localhost:8080/"
        },
        "id": "hGRCla5GkUQn",
        "outputId": "2b7b645e-5279-4f27-d456-a3804d58984a"
      },
      "execution_count": null,
      "outputs": [
        {
          "output_type": "execute_result",
          "data": {
            "text/plain": [
              "(np.float64(0.972749704925708), np.float64(1.289371860710677))"
            ]
          },
          "metadata": {},
          "execution_count": 37
        }
      ]
    },
    {
      "cell_type": "markdown",
      "source": [
        "# Intervalo de confianza para la proporción"
      ],
      "metadata": {
        "id": "b64gfichkXCZ"
      }
    },
    {
      "cell_type": "code",
      "source": [
        "n = len(datos)\n",
        "x = (datos[\"Satisfecho\"] == \"Sí\").sum()\n",
        "p = x / n\n",
        "print(\"p = \",p)\n",
        "print(\"np = \", n*p)\n",
        "print(\"n(1-p) = \", n * (1 - p))"
      ],
      "metadata": {
        "colab": {
          "base_uri": "https://localhost:8080/"
        },
        "id": "9c1tn_dDkyEr",
        "outputId": "d024fb45-a57e-45f8-cb75-d5cbcb655cd3"
      },
      "execution_count": null,
      "outputs": [
        {
          "output_type": "stream",
          "name": "stdout",
          "text": [
            "p =  0.6571428571428571\n",
            "np =  46.0\n",
            "n(1-p) =  24.0\n"
          ]
        }
      ]
    },
    {
      "cell_type": "markdown",
      "source": [
        "Con un nivel de confianza del 96%, se estima que la verdadera proporción de estudiantes usuarios de la biblioteca que están satisfechos se encuentra entre 0.5347 y 0.7617.\n"
      ],
      "metadata": {
        "id": "Nr7_WpJxlVOt"
      }
    },
    {
      "cell_type": "code",
      "source": [
        "from statsmodels.stats.proportion import proportion_confint\n",
        "proportion_confint(count=x, nobs=n, alpha=0.04, method='normal')"
      ],
      "metadata": {
        "colab": {
          "base_uri": "https://localhost:8080/"
        },
        "id": "-YCxhrsWlH7n",
        "outputId": "22479d12-8dbf-4f96-ca22-88fe468d02e5"
      },
      "execution_count": null,
      "outputs": [
        {
          "output_type": "execute_result",
          "data": {
            "text/plain": [
              "(0.5406270567770525, 0.7736586575086618)"
            ]
          },
          "metadata": {},
          "execution_count": 47
        }
      ]
    },
    {
      "cell_type": "code",
      "source": [
        "proportion_confint(count=x, nobs=n, alpha=0.04, method='wilson')"
      ],
      "metadata": {
        "colab": {
          "base_uri": "https://localhost:8080/"
        },
        "id": "wNOcwO4LkiCP",
        "outputId": "eff3f0d9-7f00-47c2-9472-f489e3f190ea"
      },
      "execution_count": null,
      "outputs": [
        {
          "output_type": "execute_result",
          "data": {
            "text/plain": [
              "(0.5347038752613607, 0.7617206337656777)"
            ]
          },
          "metadata": {},
          "execution_count": 43
        }
      ]
    },
    {
      "cell_type": "code",
      "source": [
        "proportion_confint(count=x, nobs=n, alpha=0.04, method='beta')"
      ],
      "metadata": {
        "colab": {
          "base_uri": "https://localhost:8080/"
        },
        "id": "3wC6i--Yk9Ez",
        "outputId": "37b39766-f2b1-4cd9-e8b9-c957fa52d97f"
      },
      "execution_count": null,
      "outputs": [
        {
          "output_type": "execute_result",
          "data": {
            "text/plain": [
              "(0.5283750602452888, 0.7710224322753229)"
            ]
          },
          "metadata": {},
          "execution_count": 45
        }
      ]
    }
  ]
}